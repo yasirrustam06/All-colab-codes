{
  "cells": [
    {
      "cell_type": "markdown",
      "metadata": {
        "id": "view-in-github",
        "colab_type": "text"
      },
      "source": [
        "<a href=\"https://colab.research.google.com/github/yasirrustam06/All-colab-codes/blob/main/Naive_LSTM_HyperParameter.ipynb\" target=\"_parent\"><img src=\"https://colab.research.google.com/assets/colab-badge.svg\" alt=\"Open In Colab\"/></a>"
      ]
    },
    {
      "cell_type": "code",
      "execution_count": null,
      "metadata": {
        "id": "opTdT5D1gjyy"
      },
      "outputs": [],
      "source": [
        "# Install the necessary libraries\n",
        "%%capture\n",
        "!pip3 install --upgrade --no-cache-dir gdown\n",
        "!pip3 install emoji\n",
        "!pip3 install contractions\n",
        "!pip3 install keras_tuner\n",
        "!pip3 install transformers\n",
        "!pip install Keras-Preprocessing"
      ]
    },
    {
      "cell_type": "code",
      "execution_count": null,
      "metadata": {
        "id": "kA9NEuIUfOIu"
      },
      "outputs": [],
      "source": [
        "# Import the necessary libraries\n",
        "import re\n",
        "import os\n",
        "import pandas as pd\n",
        "import xml.etree.ElementTree as ET\n",
        "from tqdm import tqdm\n",
        "tqdm.pandas()\n",
        "import seaborn as sns\n",
        "import emoji\n",
        "import string\n",
        "import contractions"
      ]
    },
    {
      "cell_type": "code",
      "execution_count": null,
      "metadata": {
        "id": "6QM1Hbv1N1es"
      },
      "outputs": [],
      "source": [
        "# Set the notebook hyperparameter\n",
        "LOAD = False\n",
        "# TRAIN = False\n",
        "TRAIN =True"
      ]
    },
    {
      "cell_type": "markdown",
      "metadata": {
        "id": "s435JOoInCeh"
      },
      "source": [
        "# Data Extraction"
      ]
    },
    {
      "cell_type": "code",
      "execution_count": null,
      "metadata": {
        "colab": {
          "base_uri": "https://localhost:8080/"
        },
        "id": "R8e4snv8Qahh",
        "outputId": "cf389768-8009-4743-ce1e-ac1a9c88a0de"
      },
      "outputs": [
        {
          "output_type": "stream",
          "name": "stdout",
          "text": [
            "Mounted at /content/drive\n"
          ]
        }
      ],
      "source": [
        "from google.colab import drive\n",
        "drive.mount('/content/drive')"
      ]
    },
    {
      "cell_type": "code",
      "execution_count": null,
      "metadata": {
        "colab": {
          "base_uri": "https://localhost:8080/",
          "height": 36
        },
        "id": "U8RZ_3tXgdqz",
        "outputId": "8db54973-fc82-4b9a-bbe0-257de08fa5af"
      },
      "outputs": [
        {
          "output_type": "execute_result",
          "data": {
            "text/plain": [
              "''"
            ],
            "application/vnd.google.colaboratory.intrinsic+json": {
              "type": "string"
            }
          },
          "metadata": {},
          "execution_count": 8
        }
      ],
      "source": [
        "import tensorflow as tf\n",
        "tf.test.gpu_device_name()"
      ]
    },
    {
      "cell_type": "markdown",
      "source": [
        "LOADING ANOTHER DATA"
      ],
      "metadata": {
        "id": "rL9LmE_YASwU"
      }
    },
    {
      "cell_type": "code",
      "source": [
        "df_offensive = pd.read_csv('/content/drive/MyDrive/hate_speech.csv')"
      ],
      "metadata": {
        "id": "FjDErP_S3eST"
      },
      "execution_count": null,
      "outputs": []
    },
    {
      "cell_type": "code",
      "execution_count": null,
      "metadata": {
        "id": "CjZTlMzwe0Xm"
      },
      "outputs": [],
      "source": [
        "# Utilised functions\n",
        "def sorted_alphanumeric(data):\n",
        "    convert = lambda text: int(text) if text.isdigit() else text.lower()\n",
        "    alphanum_key = lambda key: [ convert(c) for c in re.split('([0-9]+)', key) ]\n",
        "    return sorted(data, key=alphanum_key)"
      ]
    },
    {
      "cell_type": "code",
      "execution_count": null,
      "metadata": {
        "colab": {
          "base_uri": "https://localhost:8080/"
        },
        "id": "szgi5fDXi4Va",
        "outputId": "cf3a854f-10cc-4031-c302-efbbe57c068c"
      },
      "outputs": [
        {
          "output_type": "stream",
          "name": "stderr",
          "text": [
            "100%|██████████| 201/201 [01:07<00:00,  2.96it/s]\n"
          ]
        }
      ],
      "source": [
        "# Load the dataset into a dataframe\n",
        "# path = '/content/pan21-author-profiling-training-2021-03-14/en'\n",
        "path = '/content/drive/MyDrive/en'\n",
        "filenames = sorted_alphanumeric(os.listdir(path))\n",
        "\n",
        "df = pd.DataFrame(columns=['Text', 'Author', 'Truth'])\n",
        "\n",
        "for index, filename in enumerate(tqdm(filenames)):\n",
        "    if filename[-3:] == 'xml':\n",
        "        root = ET.parse(path + '/' + filename).getroot()\n",
        "\n",
        "        truth = int(root.get('class'))\n",
        "        texts = root.findall('documents/document')\n",
        "\n",
        "        for text in texts:\n",
        "            df.loc[len(df)] = [text.text, index, truth]"
      ]
    },
    {
      "cell_type": "code",
      "source": [
        "# Preview the dataset\n",
        "print(f\"Number of offensive tweets: {df[df['Truth'] == 1].shape[0]}\")   #  1 for offensive speech\n",
        "print(f\"Number of non-offensive tweets: {df[df['Truth'] == 0].shape[0]}\")\n"
      ],
      "metadata": {
        "id": "w7n4h-I7dmva",
        "colab": {
          "base_uri": "https://localhost:8080/"
        },
        "outputId": "c7a17212-288e-4631-91f2-90c3423ebdb3"
      },
      "execution_count": null,
      "outputs": [
        {
          "output_type": "stream",
          "name": "stdout",
          "text": [
            "Number of offensive tweets: 20000\n",
            "Number of non-offensive tweets: 20000\n"
          ]
        }
      ]
    },
    {
      "cell_type": "code",
      "source": [
        "# Utilised functions\n",
        "# Normalize sequences of at least 3 repeated characters with a maximum of two letters\n",
        "def replace_more_than_three(s):\n",
        "    pattern = re.compile(r\"(.)\\1{2,}\", re.DOTALL)\n",
        "    return pattern.sub(r\"\\1\\1\", s)\n",
        "\n",
        "def clean_text(sentence):\n",
        "\n",
        "    # Remove the dataset specific terms and other html leftovers\n",
        "    elements = {r'#URL#': '', r'#USER#': '', r'#HASHTAG#': '', r'&amp': ' ', r'&quot': '', r'&apos': '',\n",
        "                r'&lt': '', r'&gt': '', r',(?!\\s)': ', ', r'\\\\\\'(?=[a-zA-Z])': r'\\''}\n",
        "    for key, value in elements.items():\n",
        "        sentence = re.sub(key, value, sentence)\n",
        "\n",
        "    # Expand contractions (ex: you're -> you are)\n",
        "    sentence = contractions.fix(sentence, slang=True)\n",
        "\n",
        "    # Normalize sequences of at least 3 repeated characters with a maximum of two letters (ex: hiiiiii -> hii)\n",
        "    sentence = replace_more_than_three(sentence)\n",
        "\n",
        "    # Remove numbers\n",
        "    sentence = re.sub(r'\\d+', '', sentence)\n",
        "\n",
        "    # Remove punctuations\n",
        "    sentence = sentence.translate(str.maketrans(' ', ' ', string.punctuation))\n",
        "\n",
        "    # Transform emojis into their aliases\n",
        "    sentence = emoji.demojize(sentence)\n",
        "    sentence = re.sub(r':', ' ', sentence)\n",
        "\n",
        "    # Remove extra white spaces\n",
        "    sentence = ' '.join(sentence.split())\n",
        "\n",
        "    # Remove any left or right spacing\n",
        "    sentence.strip()\n",
        "\n",
        "    return sentence"
      ],
      "metadata": {
        "id": "jmEFl7-UfA4k"
      },
      "execution_count": null,
      "outputs": []
    },
    {
      "cell_type": "code",
      "source": [
        "df['Clean'] = df['Text'].progress_apply(lambda txt: clean_text(txt))\n",
        "\n",
        "# Rearrange the columns\n",
        "df = df[['Text', 'Clean', 'Author', 'Truth']]"
      ],
      "metadata": {
        "colab": {
          "base_uri": "https://localhost:8080/"
        },
        "id": "MRJ7IKcCfA66",
        "outputId": "a4756726-b02d-413d-db7c-8a18f83cb864"
      },
      "execution_count": null,
      "outputs": [
        {
          "output_type": "stream",
          "name": "stderr",
          "text": [
            "100%|██████████| 40000/40000 [00:02<00:00, 16593.26it/s]\n"
          ]
        }
      ]
    },
    {
      "cell_type": "code",
      "source": [],
      "metadata": {
        "id": "gBzAjthg6W69"
      },
      "execution_count": null,
      "outputs": []
    },
    {
      "cell_type": "code",
      "source": [
        "df.head()"
      ],
      "metadata": {
        "colab": {
          "base_uri": "https://localhost:8080/",
          "height": 206
        },
        "id": "pgSGxKfZAz69",
        "outputId": "80a2e8ad-21bd-4459-ccc0-147d5585639e"
      },
      "execution_count": null,
      "outputs": [
        {
          "output_type": "execute_result",
          "data": {
            "text/plain": [
              "                                                Text  \\\n",
              "0  \"Hey Jamal (snickering uncontrollable) You wan...   \n",
              "1   RT #USER#: Cotton coming out with a banger #URL#   \n",
              "2  This is meant to be sarcasm but it's a good po...   \n",
              "3  Nick really just compared homosexuality to peo...   \n",
              "4      PROTECT AMERICA FIRST! LET'S GO!!!!!!!! #URL#   \n",
              "\n",
              "                                               Clean  Author  Truth  \n",
              "0  Hey Jamal snickering uncontrollable You want s...       0      1  \n",
              "1                 RT Cotton coming out with a banger       0      1  \n",
              "2  This is meant to be sarcasm but it is a good p...       0      1  \n",
              "3  Nick really just compared homosexuality to peo...       0      1  \n",
              "4                    PROTECT AMERICA FIRST LET US GO       0      1  "
            ],
            "text/html": [
              "\n",
              "  <div id=\"df-714e81a6-2b40-4912-9a3e-a358de4876dc\">\n",
              "    <div class=\"colab-df-container\">\n",
              "      <div>\n",
              "<style scoped>\n",
              "    .dataframe tbody tr th:only-of-type {\n",
              "        vertical-align: middle;\n",
              "    }\n",
              "\n",
              "    .dataframe tbody tr th {\n",
              "        vertical-align: top;\n",
              "    }\n",
              "\n",
              "    .dataframe thead th {\n",
              "        text-align: right;\n",
              "    }\n",
              "</style>\n",
              "<table border=\"1\" class=\"dataframe\">\n",
              "  <thead>\n",
              "    <tr style=\"text-align: right;\">\n",
              "      <th></th>\n",
              "      <th>Text</th>\n",
              "      <th>Clean</th>\n",
              "      <th>Author</th>\n",
              "      <th>Truth</th>\n",
              "    </tr>\n",
              "  </thead>\n",
              "  <tbody>\n",
              "    <tr>\n",
              "      <th>0</th>\n",
              "      <td>\"Hey Jamal (snickering uncontrollable) You wan...</td>\n",
              "      <td>Hey Jamal snickering uncontrollable You want s...</td>\n",
              "      <td>0</td>\n",
              "      <td>1</td>\n",
              "    </tr>\n",
              "    <tr>\n",
              "      <th>1</th>\n",
              "      <td>RT #USER#: Cotton coming out with a banger #URL#</td>\n",
              "      <td>RT Cotton coming out with a banger</td>\n",
              "      <td>0</td>\n",
              "      <td>1</td>\n",
              "    </tr>\n",
              "    <tr>\n",
              "      <th>2</th>\n",
              "      <td>This is meant to be sarcasm but it's a good po...</td>\n",
              "      <td>This is meant to be sarcasm but it is a good p...</td>\n",
              "      <td>0</td>\n",
              "      <td>1</td>\n",
              "    </tr>\n",
              "    <tr>\n",
              "      <th>3</th>\n",
              "      <td>Nick really just compared homosexuality to peo...</td>\n",
              "      <td>Nick really just compared homosexuality to peo...</td>\n",
              "      <td>0</td>\n",
              "      <td>1</td>\n",
              "    </tr>\n",
              "    <tr>\n",
              "      <th>4</th>\n",
              "      <td>PROTECT AMERICA FIRST! LET'S GO!!!!!!!! #URL#</td>\n",
              "      <td>PROTECT AMERICA FIRST LET US GO</td>\n",
              "      <td>0</td>\n",
              "      <td>1</td>\n",
              "    </tr>\n",
              "  </tbody>\n",
              "</table>\n",
              "</div>\n",
              "      <button class=\"colab-df-convert\" onclick=\"convertToInteractive('df-714e81a6-2b40-4912-9a3e-a358de4876dc')\"\n",
              "              title=\"Convert this dataframe to an interactive table.\"\n",
              "              style=\"display:none;\">\n",
              "        \n",
              "  <svg xmlns=\"http://www.w3.org/2000/svg\" height=\"24px\"viewBox=\"0 0 24 24\"\n",
              "       width=\"24px\">\n",
              "    <path d=\"M0 0h24v24H0V0z\" fill=\"none\"/>\n",
              "    <path d=\"M18.56 5.44l.94 2.06.94-2.06 2.06-.94-2.06-.94-.94-2.06-.94 2.06-2.06.94zm-11 1L8.5 8.5l.94-2.06 2.06-.94-2.06-.94L8.5 2.5l-.94 2.06-2.06.94zm10 10l.94 2.06.94-2.06 2.06-.94-2.06-.94-.94-2.06-.94 2.06-2.06.94z\"/><path d=\"M17.41 7.96l-1.37-1.37c-.4-.4-.92-.59-1.43-.59-.52 0-1.04.2-1.43.59L10.3 9.45l-7.72 7.72c-.78.78-.78 2.05 0 2.83L4 21.41c.39.39.9.59 1.41.59.51 0 1.02-.2 1.41-.59l7.78-7.78 2.81-2.81c.8-.78.8-2.07 0-2.86zM5.41 20L4 18.59l7.72-7.72 1.47 1.35L5.41 20z\"/>\n",
              "  </svg>\n",
              "      </button>\n",
              "      \n",
              "  <style>\n",
              "    .colab-df-container {\n",
              "      display:flex;\n",
              "      flex-wrap:wrap;\n",
              "      gap: 12px;\n",
              "    }\n",
              "\n",
              "    .colab-df-convert {\n",
              "      background-color: #E8F0FE;\n",
              "      border: none;\n",
              "      border-radius: 50%;\n",
              "      cursor: pointer;\n",
              "      display: none;\n",
              "      fill: #1967D2;\n",
              "      height: 32px;\n",
              "      padding: 0 0 0 0;\n",
              "      width: 32px;\n",
              "    }\n",
              "\n",
              "    .colab-df-convert:hover {\n",
              "      background-color: #E2EBFA;\n",
              "      box-shadow: 0px 1px 2px rgba(60, 64, 67, 0.3), 0px 1px 3px 1px rgba(60, 64, 67, 0.15);\n",
              "      fill: #174EA6;\n",
              "    }\n",
              "\n",
              "    [theme=dark] .colab-df-convert {\n",
              "      background-color: #3B4455;\n",
              "      fill: #D2E3FC;\n",
              "    }\n",
              "\n",
              "    [theme=dark] .colab-df-convert:hover {\n",
              "      background-color: #434B5C;\n",
              "      box-shadow: 0px 1px 3px 1px rgba(0, 0, 0, 0.15);\n",
              "      filter: drop-shadow(0px 1px 2px rgba(0, 0, 0, 0.3));\n",
              "      fill: #FFFFFF;\n",
              "    }\n",
              "  </style>\n",
              "\n",
              "      <script>\n",
              "        const buttonEl =\n",
              "          document.querySelector('#df-714e81a6-2b40-4912-9a3e-a358de4876dc button.colab-df-convert');\n",
              "        buttonEl.style.display =\n",
              "          google.colab.kernel.accessAllowed ? 'block' : 'none';\n",
              "\n",
              "        async function convertToInteractive(key) {\n",
              "          const element = document.querySelector('#df-714e81a6-2b40-4912-9a3e-a358de4876dc');\n",
              "          const dataTable =\n",
              "            await google.colab.kernel.invokeFunction('convertToInteractive',\n",
              "                                                     [key], {});\n",
              "          if (!dataTable) return;\n",
              "\n",
              "          const docLinkHtml = 'Like what you see? Visit the ' +\n",
              "            '<a target=\"_blank\" href=https://colab.research.google.com/notebooks/data_table.ipynb>data table notebook</a>'\n",
              "            + ' to learn more about interactive tables.';\n",
              "          element.innerHTML = '';\n",
              "          dataTable['output_type'] = 'display_data';\n",
              "          await google.colab.output.renderOutput(dataTable, element);\n",
              "          const docLink = document.createElement('div');\n",
              "          docLink.innerHTML = docLinkHtml;\n",
              "          element.appendChild(docLink);\n",
              "        }\n",
              "      </script>\n",
              "    </div>\n",
              "  </div>\n",
              "  "
            ]
          },
          "metadata": {},
          "execution_count": 15
        }
      ]
    },
    {
      "cell_type": "code",
      "source": [
        "df = df.drop('Text',axis=1)\n",
        "cleaned_df = df.drop('Author',axis=1)"
      ],
      "metadata": {
        "id": "eDOQhT19Az9Y"
      },
      "execution_count": null,
      "outputs": []
    },
    {
      "cell_type": "code",
      "source": [
        "cleaned_df['Clean'] = cleaned_df['Clean'].apply(lambda x: x.lower())  # Convert text to lowercase\n"
      ],
      "metadata": {
        "id": "YnVQj3YFAz_r"
      },
      "execution_count": null,
      "outputs": []
    },
    {
      "cell_type": "code",
      "execution_count": null,
      "metadata": {
        "colab": {
          "base_uri": "https://localhost:8080/",
          "height": 206
        },
        "id": "NU1q_Nqlf3Bt",
        "outputId": "3503dc8e-6188-41b7-e29e-a3586a1665d6"
      },
      "outputs": [
        {
          "output_type": "execute_result",
          "data": {
            "text/plain": [
              "                                               Clean  Truth\n",
              "0  hey jamal snickering uncontrollable you want s...      1\n",
              "1                 rt cotton coming out with a banger      1\n",
              "2  this is meant to be sarcasm but it is a good p...      1\n",
              "3  nick really just compared homosexuality to peo...      1\n",
              "4                    protect america first let us go      1"
            ],
            "text/html": [
              "\n",
              "  <div id=\"df-71bab1d5-06b0-4151-8b2c-31120271fa5a\">\n",
              "    <div class=\"colab-df-container\">\n",
              "      <div>\n",
              "<style scoped>\n",
              "    .dataframe tbody tr th:only-of-type {\n",
              "        vertical-align: middle;\n",
              "    }\n",
              "\n",
              "    .dataframe tbody tr th {\n",
              "        vertical-align: top;\n",
              "    }\n",
              "\n",
              "    .dataframe thead th {\n",
              "        text-align: right;\n",
              "    }\n",
              "</style>\n",
              "<table border=\"1\" class=\"dataframe\">\n",
              "  <thead>\n",
              "    <tr style=\"text-align: right;\">\n",
              "      <th></th>\n",
              "      <th>Clean</th>\n",
              "      <th>Truth</th>\n",
              "    </tr>\n",
              "  </thead>\n",
              "  <tbody>\n",
              "    <tr>\n",
              "      <th>0</th>\n",
              "      <td>hey jamal snickering uncontrollable you want s...</td>\n",
              "      <td>1</td>\n",
              "    </tr>\n",
              "    <tr>\n",
              "      <th>1</th>\n",
              "      <td>rt cotton coming out with a banger</td>\n",
              "      <td>1</td>\n",
              "    </tr>\n",
              "    <tr>\n",
              "      <th>2</th>\n",
              "      <td>this is meant to be sarcasm but it is a good p...</td>\n",
              "      <td>1</td>\n",
              "    </tr>\n",
              "    <tr>\n",
              "      <th>3</th>\n",
              "      <td>nick really just compared homosexuality to peo...</td>\n",
              "      <td>1</td>\n",
              "    </tr>\n",
              "    <tr>\n",
              "      <th>4</th>\n",
              "      <td>protect america first let us go</td>\n",
              "      <td>1</td>\n",
              "    </tr>\n",
              "  </tbody>\n",
              "</table>\n",
              "</div>\n",
              "      <button class=\"colab-df-convert\" onclick=\"convertToInteractive('df-71bab1d5-06b0-4151-8b2c-31120271fa5a')\"\n",
              "              title=\"Convert this dataframe to an interactive table.\"\n",
              "              style=\"display:none;\">\n",
              "        \n",
              "  <svg xmlns=\"http://www.w3.org/2000/svg\" height=\"24px\"viewBox=\"0 0 24 24\"\n",
              "       width=\"24px\">\n",
              "    <path d=\"M0 0h24v24H0V0z\" fill=\"none\"/>\n",
              "    <path d=\"M18.56 5.44l.94 2.06.94-2.06 2.06-.94-2.06-.94-.94-2.06-.94 2.06-2.06.94zm-11 1L8.5 8.5l.94-2.06 2.06-.94-2.06-.94L8.5 2.5l-.94 2.06-2.06.94zm10 10l.94 2.06.94-2.06 2.06-.94-2.06-.94-.94-2.06-.94 2.06-2.06.94z\"/><path d=\"M17.41 7.96l-1.37-1.37c-.4-.4-.92-.59-1.43-.59-.52 0-1.04.2-1.43.59L10.3 9.45l-7.72 7.72c-.78.78-.78 2.05 0 2.83L4 21.41c.39.39.9.59 1.41.59.51 0 1.02-.2 1.41-.59l7.78-7.78 2.81-2.81c.8-.78.8-2.07 0-2.86zM5.41 20L4 18.59l7.72-7.72 1.47 1.35L5.41 20z\"/>\n",
              "  </svg>\n",
              "      </button>\n",
              "      \n",
              "  <style>\n",
              "    .colab-df-container {\n",
              "      display:flex;\n",
              "      flex-wrap:wrap;\n",
              "      gap: 12px;\n",
              "    }\n",
              "\n",
              "    .colab-df-convert {\n",
              "      background-color: #E8F0FE;\n",
              "      border: none;\n",
              "      border-radius: 50%;\n",
              "      cursor: pointer;\n",
              "      display: none;\n",
              "      fill: #1967D2;\n",
              "      height: 32px;\n",
              "      padding: 0 0 0 0;\n",
              "      width: 32px;\n",
              "    }\n",
              "\n",
              "    .colab-df-convert:hover {\n",
              "      background-color: #E2EBFA;\n",
              "      box-shadow: 0px 1px 2px rgba(60, 64, 67, 0.3), 0px 1px 3px 1px rgba(60, 64, 67, 0.15);\n",
              "      fill: #174EA6;\n",
              "    }\n",
              "\n",
              "    [theme=dark] .colab-df-convert {\n",
              "      background-color: #3B4455;\n",
              "      fill: #D2E3FC;\n",
              "    }\n",
              "\n",
              "    [theme=dark] .colab-df-convert:hover {\n",
              "      background-color: #434B5C;\n",
              "      box-shadow: 0px 1px 3px 1px rgba(0, 0, 0, 0.15);\n",
              "      filter: drop-shadow(0px 1px 2px rgba(0, 0, 0, 0.3));\n",
              "      fill: #FFFFFF;\n",
              "    }\n",
              "  </style>\n",
              "\n",
              "      <script>\n",
              "        const buttonEl =\n",
              "          document.querySelector('#df-71bab1d5-06b0-4151-8b2c-31120271fa5a button.colab-df-convert');\n",
              "        buttonEl.style.display =\n",
              "          google.colab.kernel.accessAllowed ? 'block' : 'none';\n",
              "\n",
              "        async function convertToInteractive(key) {\n",
              "          const element = document.querySelector('#df-71bab1d5-06b0-4151-8b2c-31120271fa5a');\n",
              "          const dataTable =\n",
              "            await google.colab.kernel.invokeFunction('convertToInteractive',\n",
              "                                                     [key], {});\n",
              "          if (!dataTable) return;\n",
              "\n",
              "          const docLinkHtml = 'Like what you see? Visit the ' +\n",
              "            '<a target=\"_blank\" href=https://colab.research.google.com/notebooks/data_table.ipynb>data table notebook</a>'\n",
              "            + ' to learn more about interactive tables.';\n",
              "          element.innerHTML = '';\n",
              "          dataTable['output_type'] = 'display_data';\n",
              "          await google.colab.output.renderOutput(dataTable, element);\n",
              "          const docLink = document.createElement('div');\n",
              "          docLink.innerHTML = docLinkHtml;\n",
              "          element.appendChild(docLink);\n",
              "        }\n",
              "      </script>\n",
              "    </div>\n",
              "  </div>\n",
              "  "
            ]
          },
          "metadata": {},
          "execution_count": 18
        }
      ],
      "source": [
        "cleaned_df.head()"
      ]
    },
    {
      "cell_type": "code",
      "source": [
        "cleaned_df['label'] = cleaned_df['Truth']\n",
        "cleaned_df = cleaned_df.drop('Truth',axis=1)\n",
        "cleaned_df['tweet'] = cleaned_df['Clean']\n",
        "ddf = cleaned_df.drop('Clean',axis=1)\n"
      ],
      "metadata": {
        "id": "IMVckwVfgGdL"
      },
      "execution_count": null,
      "outputs": []
    },
    {
      "cell_type": "code",
      "source": [
        "ddf.head()"
      ],
      "metadata": {
        "colab": {
          "base_uri": "https://localhost:8080/",
          "height": 206
        },
        "id": "DG8Baj80gJzP",
        "outputId": "00a8d85a-aa64-4629-facf-9a8d7d657820"
      },
      "execution_count": null,
      "outputs": [
        {
          "output_type": "execute_result",
          "data": {
            "text/plain": [
              "   label                                              tweet\n",
              "0      1  hey jamal snickering uncontrollable you want s...\n",
              "1      1                 rt cotton coming out with a banger\n",
              "2      1  this is meant to be sarcasm but it is a good p...\n",
              "3      1  nick really just compared homosexuality to peo...\n",
              "4      1                    protect america first let us go"
            ],
            "text/html": [
              "\n",
              "  <div id=\"df-60154570-b292-442c-a621-22400a075796\">\n",
              "    <div class=\"colab-df-container\">\n",
              "      <div>\n",
              "<style scoped>\n",
              "    .dataframe tbody tr th:only-of-type {\n",
              "        vertical-align: middle;\n",
              "    }\n",
              "\n",
              "    .dataframe tbody tr th {\n",
              "        vertical-align: top;\n",
              "    }\n",
              "\n",
              "    .dataframe thead th {\n",
              "        text-align: right;\n",
              "    }\n",
              "</style>\n",
              "<table border=\"1\" class=\"dataframe\">\n",
              "  <thead>\n",
              "    <tr style=\"text-align: right;\">\n",
              "      <th></th>\n",
              "      <th>label</th>\n",
              "      <th>tweet</th>\n",
              "    </tr>\n",
              "  </thead>\n",
              "  <tbody>\n",
              "    <tr>\n",
              "      <th>0</th>\n",
              "      <td>1</td>\n",
              "      <td>hey jamal snickering uncontrollable you want s...</td>\n",
              "    </tr>\n",
              "    <tr>\n",
              "      <th>1</th>\n",
              "      <td>1</td>\n",
              "      <td>rt cotton coming out with a banger</td>\n",
              "    </tr>\n",
              "    <tr>\n",
              "      <th>2</th>\n",
              "      <td>1</td>\n",
              "      <td>this is meant to be sarcasm but it is a good p...</td>\n",
              "    </tr>\n",
              "    <tr>\n",
              "      <th>3</th>\n",
              "      <td>1</td>\n",
              "      <td>nick really just compared homosexuality to peo...</td>\n",
              "    </tr>\n",
              "    <tr>\n",
              "      <th>4</th>\n",
              "      <td>1</td>\n",
              "      <td>protect america first let us go</td>\n",
              "    </tr>\n",
              "  </tbody>\n",
              "</table>\n",
              "</div>\n",
              "      <button class=\"colab-df-convert\" onclick=\"convertToInteractive('df-60154570-b292-442c-a621-22400a075796')\"\n",
              "              title=\"Convert this dataframe to an interactive table.\"\n",
              "              style=\"display:none;\">\n",
              "        \n",
              "  <svg xmlns=\"http://www.w3.org/2000/svg\" height=\"24px\"viewBox=\"0 0 24 24\"\n",
              "       width=\"24px\">\n",
              "    <path d=\"M0 0h24v24H0V0z\" fill=\"none\"/>\n",
              "    <path d=\"M18.56 5.44l.94 2.06.94-2.06 2.06-.94-2.06-.94-.94-2.06-.94 2.06-2.06.94zm-11 1L8.5 8.5l.94-2.06 2.06-.94-2.06-.94L8.5 2.5l-.94 2.06-2.06.94zm10 10l.94 2.06.94-2.06 2.06-.94-2.06-.94-.94-2.06-.94 2.06-2.06.94z\"/><path d=\"M17.41 7.96l-1.37-1.37c-.4-.4-.92-.59-1.43-.59-.52 0-1.04.2-1.43.59L10.3 9.45l-7.72 7.72c-.78.78-.78 2.05 0 2.83L4 21.41c.39.39.9.59 1.41.59.51 0 1.02-.2 1.41-.59l7.78-7.78 2.81-2.81c.8-.78.8-2.07 0-2.86zM5.41 20L4 18.59l7.72-7.72 1.47 1.35L5.41 20z\"/>\n",
              "  </svg>\n",
              "      </button>\n",
              "      \n",
              "  <style>\n",
              "    .colab-df-container {\n",
              "      display:flex;\n",
              "      flex-wrap:wrap;\n",
              "      gap: 12px;\n",
              "    }\n",
              "\n",
              "    .colab-df-convert {\n",
              "      background-color: #E8F0FE;\n",
              "      border: none;\n",
              "      border-radius: 50%;\n",
              "      cursor: pointer;\n",
              "      display: none;\n",
              "      fill: #1967D2;\n",
              "      height: 32px;\n",
              "      padding: 0 0 0 0;\n",
              "      width: 32px;\n",
              "    }\n",
              "\n",
              "    .colab-df-convert:hover {\n",
              "      background-color: #E2EBFA;\n",
              "      box-shadow: 0px 1px 2px rgba(60, 64, 67, 0.3), 0px 1px 3px 1px rgba(60, 64, 67, 0.15);\n",
              "      fill: #174EA6;\n",
              "    }\n",
              "\n",
              "    [theme=dark] .colab-df-convert {\n",
              "      background-color: #3B4455;\n",
              "      fill: #D2E3FC;\n",
              "    }\n",
              "\n",
              "    [theme=dark] .colab-df-convert:hover {\n",
              "      background-color: #434B5C;\n",
              "      box-shadow: 0px 1px 3px 1px rgba(0, 0, 0, 0.15);\n",
              "      filter: drop-shadow(0px 1px 2px rgba(0, 0, 0, 0.3));\n",
              "      fill: #FFFFFF;\n",
              "    }\n",
              "  </style>\n",
              "\n",
              "      <script>\n",
              "        const buttonEl =\n",
              "          document.querySelector('#df-60154570-b292-442c-a621-22400a075796 button.colab-df-convert');\n",
              "        buttonEl.style.display =\n",
              "          google.colab.kernel.accessAllowed ? 'block' : 'none';\n",
              "\n",
              "        async function convertToInteractive(key) {\n",
              "          const element = document.querySelector('#df-60154570-b292-442c-a621-22400a075796');\n",
              "          const dataTable =\n",
              "            await google.colab.kernel.invokeFunction('convertToInteractive',\n",
              "                                                     [key], {});\n",
              "          if (!dataTable) return;\n",
              "\n",
              "          const docLinkHtml = 'Like what you see? Visit the ' +\n",
              "            '<a target=\"_blank\" href=https://colab.research.google.com/notebooks/data_table.ipynb>data table notebook</a>'\n",
              "            + ' to learn more about interactive tables.';\n",
              "          element.innerHTML = '';\n",
              "          dataTable['output_type'] = 'display_data';\n",
              "          await google.colab.output.renderOutput(dataTable, element);\n",
              "          const docLink = document.createElement('div');\n",
              "          docLink.innerHTML = docLinkHtml;\n",
              "          element.appendChild(docLink);\n",
              "        }\n",
              "      </script>\n",
              "    </div>\n",
              "  </div>\n",
              "  "
            ]
          },
          "metadata": {},
          "execution_count": 20
        }
      ]
    },
    {
      "cell_type": "code",
      "source": [
        "ddf['label'].unique()"
      ],
      "metadata": {
        "id": "17VlVpt-fKKu",
        "colab": {
          "base_uri": "https://localhost:8080/"
        },
        "outputId": "2f943651-12a2-4307-ae44-fb33aeb9510f"
      },
      "execution_count": null,
      "outputs": [
        {
          "output_type": "execute_result",
          "data": {
            "text/plain": [
              "array([1, 0])"
            ]
          },
          "metadata": {},
          "execution_count": 21
        }
      ]
    },
    {
      "cell_type": "code",
      "source": [
        "ddf.iloc[0]['tweet']"
      ],
      "metadata": {
        "id": "BAZbe45YfKNu",
        "colab": {
          "base_uri": "https://localhost:8080/",
          "height": 36
        },
        "outputId": "c1bcda0e-d7a5-464e-86fa-4df3eb27bcf5"
      },
      "execution_count": null,
      "outputs": [
        {
          "output_type": "execute_result",
          "data": {
            "text/plain": [
              "'hey jamal snickering uncontrollable you want some pff lemonade what an idiot'"
            ],
            "application/vnd.google.colaboratory.intrinsic+json": {
              "type": "string"
            }
          },
          "metadata": {},
          "execution_count": 22
        }
      ]
    },
    {
      "cell_type": "code",
      "source": [
        "ddf['label'].value_counts()\n",
        "df_twitter = ddf"
      ],
      "metadata": {
        "id": "Ffv6JGER3Abi"
      },
      "execution_count": null,
      "outputs": []
    },
    {
      "cell_type": "code",
      "source": [
        "ddf.head()"
      ],
      "metadata": {
        "colab": {
          "base_uri": "https://localhost:8080/",
          "height": 206
        },
        "id": "kcEMK9QS3Aga",
        "outputId": "e9fe7fb4-e45a-4f74-9cea-3e92e675fe2d"
      },
      "execution_count": null,
      "outputs": [
        {
          "output_type": "execute_result",
          "data": {
            "text/plain": [
              "   label                                              tweet\n",
              "0      1  hey jamal snickering uncontrollable you want s...\n",
              "1      1                 rt cotton coming out with a banger\n",
              "2      1  this is meant to be sarcasm but it is a good p...\n",
              "3      1  nick really just compared homosexuality to peo...\n",
              "4      1                    protect america first let us go"
            ],
            "text/html": [
              "\n",
              "  <div id=\"df-4b2d5535-a27c-4ace-8cb1-0f1706427275\">\n",
              "    <div class=\"colab-df-container\">\n",
              "      <div>\n",
              "<style scoped>\n",
              "    .dataframe tbody tr th:only-of-type {\n",
              "        vertical-align: middle;\n",
              "    }\n",
              "\n",
              "    .dataframe tbody tr th {\n",
              "        vertical-align: top;\n",
              "    }\n",
              "\n",
              "    .dataframe thead th {\n",
              "        text-align: right;\n",
              "    }\n",
              "</style>\n",
              "<table border=\"1\" class=\"dataframe\">\n",
              "  <thead>\n",
              "    <tr style=\"text-align: right;\">\n",
              "      <th></th>\n",
              "      <th>label</th>\n",
              "      <th>tweet</th>\n",
              "    </tr>\n",
              "  </thead>\n",
              "  <tbody>\n",
              "    <tr>\n",
              "      <th>0</th>\n",
              "      <td>1</td>\n",
              "      <td>hey jamal snickering uncontrollable you want s...</td>\n",
              "    </tr>\n",
              "    <tr>\n",
              "      <th>1</th>\n",
              "      <td>1</td>\n",
              "      <td>rt cotton coming out with a banger</td>\n",
              "    </tr>\n",
              "    <tr>\n",
              "      <th>2</th>\n",
              "      <td>1</td>\n",
              "      <td>this is meant to be sarcasm but it is a good p...</td>\n",
              "    </tr>\n",
              "    <tr>\n",
              "      <th>3</th>\n",
              "      <td>1</td>\n",
              "      <td>nick really just compared homosexuality to peo...</td>\n",
              "    </tr>\n",
              "    <tr>\n",
              "      <th>4</th>\n",
              "      <td>1</td>\n",
              "      <td>protect america first let us go</td>\n",
              "    </tr>\n",
              "  </tbody>\n",
              "</table>\n",
              "</div>\n",
              "      <button class=\"colab-df-convert\" onclick=\"convertToInteractive('df-4b2d5535-a27c-4ace-8cb1-0f1706427275')\"\n",
              "              title=\"Convert this dataframe to an interactive table.\"\n",
              "              style=\"display:none;\">\n",
              "        \n",
              "  <svg xmlns=\"http://www.w3.org/2000/svg\" height=\"24px\"viewBox=\"0 0 24 24\"\n",
              "       width=\"24px\">\n",
              "    <path d=\"M0 0h24v24H0V0z\" fill=\"none\"/>\n",
              "    <path d=\"M18.56 5.44l.94 2.06.94-2.06 2.06-.94-2.06-.94-.94-2.06-.94 2.06-2.06.94zm-11 1L8.5 8.5l.94-2.06 2.06-.94-2.06-.94L8.5 2.5l-.94 2.06-2.06.94zm10 10l.94 2.06.94-2.06 2.06-.94-2.06-.94-.94-2.06-.94 2.06-2.06.94z\"/><path d=\"M17.41 7.96l-1.37-1.37c-.4-.4-.92-.59-1.43-.59-.52 0-1.04.2-1.43.59L10.3 9.45l-7.72 7.72c-.78.78-.78 2.05 0 2.83L4 21.41c.39.39.9.59 1.41.59.51 0 1.02-.2 1.41-.59l7.78-7.78 2.81-2.81c.8-.78.8-2.07 0-2.86zM5.41 20L4 18.59l7.72-7.72 1.47 1.35L5.41 20z\"/>\n",
              "  </svg>\n",
              "      </button>\n",
              "      \n",
              "  <style>\n",
              "    .colab-df-container {\n",
              "      display:flex;\n",
              "      flex-wrap:wrap;\n",
              "      gap: 12px;\n",
              "    }\n",
              "\n",
              "    .colab-df-convert {\n",
              "      background-color: #E8F0FE;\n",
              "      border: none;\n",
              "      border-radius: 50%;\n",
              "      cursor: pointer;\n",
              "      display: none;\n",
              "      fill: #1967D2;\n",
              "      height: 32px;\n",
              "      padding: 0 0 0 0;\n",
              "      width: 32px;\n",
              "    }\n",
              "\n",
              "    .colab-df-convert:hover {\n",
              "      background-color: #E2EBFA;\n",
              "      box-shadow: 0px 1px 2px rgba(60, 64, 67, 0.3), 0px 1px 3px 1px rgba(60, 64, 67, 0.15);\n",
              "      fill: #174EA6;\n",
              "    }\n",
              "\n",
              "    [theme=dark] .colab-df-convert {\n",
              "      background-color: #3B4455;\n",
              "      fill: #D2E3FC;\n",
              "    }\n",
              "\n",
              "    [theme=dark] .colab-df-convert:hover {\n",
              "      background-color: #434B5C;\n",
              "      box-shadow: 0px 1px 3px 1px rgba(0, 0, 0, 0.15);\n",
              "      filter: drop-shadow(0px 1px 2px rgba(0, 0, 0, 0.3));\n",
              "      fill: #FFFFFF;\n",
              "    }\n",
              "  </style>\n",
              "\n",
              "      <script>\n",
              "        const buttonEl =\n",
              "          document.querySelector('#df-4b2d5535-a27c-4ace-8cb1-0f1706427275 button.colab-df-convert');\n",
              "        buttonEl.style.display =\n",
              "          google.colab.kernel.accessAllowed ? 'block' : 'none';\n",
              "\n",
              "        async function convertToInteractive(key) {\n",
              "          const element = document.querySelector('#df-4b2d5535-a27c-4ace-8cb1-0f1706427275');\n",
              "          const dataTable =\n",
              "            await google.colab.kernel.invokeFunction('convertToInteractive',\n",
              "                                                     [key], {});\n",
              "          if (!dataTable) return;\n",
              "\n",
              "          const docLinkHtml = 'Like what you see? Visit the ' +\n",
              "            '<a target=\"_blank\" href=https://colab.research.google.com/notebooks/data_table.ipynb>data table notebook</a>'\n",
              "            + ' to learn more about interactive tables.';\n",
              "          element.innerHTML = '';\n",
              "          dataTable['output_type'] = 'display_data';\n",
              "          await google.colab.output.renderOutput(dataTable, element);\n",
              "          const docLink = document.createElement('div');\n",
              "          docLink.innerHTML = docLinkHtml;\n",
              "          element.appendChild(docLink);\n",
              "        }\n",
              "      </script>\n",
              "    </div>\n",
              "  </div>\n",
              "  "
            ]
          },
          "metadata": {},
          "execution_count": 24
        }
      ]
    },
    {
      "cell_type": "markdown",
      "source": [
        "# preprocessing another data.."
      ],
      "metadata": {
        "id": "D9Pv6mXR3wKD"
      }
    },
    {
      "cell_type": "code",
      "source": [
        "df_offensive.head()"
      ],
      "metadata": {
        "colab": {
          "base_uri": "https://localhost:8080/",
          "height": 206
        },
        "id": "cqafKgwU3Ai3",
        "outputId": "8834e330-6643-4970-9768-1c5495311ec7"
      },
      "execution_count": null,
      "outputs": [
        {
          "output_type": "execute_result",
          "data": {
            "text/plain": [
              "   Unnamed: 0  label                                              tweet\n",
              "0           0      0  !!! RT @mayasolovely: As a woman you shouldn't...\n",
              "1           1      1  !!!!! RT @mleew17: boy dats cold...tyga dwn ba...\n",
              "2           2      1  !!!!!!! RT @UrKindOfBrand Dawg!!!! RT @80sbaby...\n",
              "3           3      1  !!!!!!!!! RT @C_G_Anderson: @viva_based she lo...\n",
              "4           4      1  !!!!!!!!!!!!! RT @ShenikaRoberts: The shit you..."
            ],
            "text/html": [
              "\n",
              "  <div id=\"df-6b5b2c40-8096-4b62-9561-19e7f1599e7a\">\n",
              "    <div class=\"colab-df-container\">\n",
              "      <div>\n",
              "<style scoped>\n",
              "    .dataframe tbody tr th:only-of-type {\n",
              "        vertical-align: middle;\n",
              "    }\n",
              "\n",
              "    .dataframe tbody tr th {\n",
              "        vertical-align: top;\n",
              "    }\n",
              "\n",
              "    .dataframe thead th {\n",
              "        text-align: right;\n",
              "    }\n",
              "</style>\n",
              "<table border=\"1\" class=\"dataframe\">\n",
              "  <thead>\n",
              "    <tr style=\"text-align: right;\">\n",
              "      <th></th>\n",
              "      <th>Unnamed: 0</th>\n",
              "      <th>label</th>\n",
              "      <th>tweet</th>\n",
              "    </tr>\n",
              "  </thead>\n",
              "  <tbody>\n",
              "    <tr>\n",
              "      <th>0</th>\n",
              "      <td>0</td>\n",
              "      <td>0</td>\n",
              "      <td>!!! RT @mayasolovely: As a woman you shouldn't...</td>\n",
              "    </tr>\n",
              "    <tr>\n",
              "      <th>1</th>\n",
              "      <td>1</td>\n",
              "      <td>1</td>\n",
              "      <td>!!!!! RT @mleew17: boy dats cold...tyga dwn ba...</td>\n",
              "    </tr>\n",
              "    <tr>\n",
              "      <th>2</th>\n",
              "      <td>2</td>\n",
              "      <td>1</td>\n",
              "      <td>!!!!!!! RT @UrKindOfBrand Dawg!!!! RT @80sbaby...</td>\n",
              "    </tr>\n",
              "    <tr>\n",
              "      <th>3</th>\n",
              "      <td>3</td>\n",
              "      <td>1</td>\n",
              "      <td>!!!!!!!!! RT @C_G_Anderson: @viva_based she lo...</td>\n",
              "    </tr>\n",
              "    <tr>\n",
              "      <th>4</th>\n",
              "      <td>4</td>\n",
              "      <td>1</td>\n",
              "      <td>!!!!!!!!!!!!! RT @ShenikaRoberts: The shit you...</td>\n",
              "    </tr>\n",
              "  </tbody>\n",
              "</table>\n",
              "</div>\n",
              "      <button class=\"colab-df-convert\" onclick=\"convertToInteractive('df-6b5b2c40-8096-4b62-9561-19e7f1599e7a')\"\n",
              "              title=\"Convert this dataframe to an interactive table.\"\n",
              "              style=\"display:none;\">\n",
              "        \n",
              "  <svg xmlns=\"http://www.w3.org/2000/svg\" height=\"24px\"viewBox=\"0 0 24 24\"\n",
              "       width=\"24px\">\n",
              "    <path d=\"M0 0h24v24H0V0z\" fill=\"none\"/>\n",
              "    <path d=\"M18.56 5.44l.94 2.06.94-2.06 2.06-.94-2.06-.94-.94-2.06-.94 2.06-2.06.94zm-11 1L8.5 8.5l.94-2.06 2.06-.94-2.06-.94L8.5 2.5l-.94 2.06-2.06.94zm10 10l.94 2.06.94-2.06 2.06-.94-2.06-.94-.94-2.06-.94 2.06-2.06.94z\"/><path d=\"M17.41 7.96l-1.37-1.37c-.4-.4-.92-.59-1.43-.59-.52 0-1.04.2-1.43.59L10.3 9.45l-7.72 7.72c-.78.78-.78 2.05 0 2.83L4 21.41c.39.39.9.59 1.41.59.51 0 1.02-.2 1.41-.59l7.78-7.78 2.81-2.81c.8-.78.8-2.07 0-2.86zM5.41 20L4 18.59l7.72-7.72 1.47 1.35L5.41 20z\"/>\n",
              "  </svg>\n",
              "      </button>\n",
              "      \n",
              "  <style>\n",
              "    .colab-df-container {\n",
              "      display:flex;\n",
              "      flex-wrap:wrap;\n",
              "      gap: 12px;\n",
              "    }\n",
              "\n",
              "    .colab-df-convert {\n",
              "      background-color: #E8F0FE;\n",
              "      border: none;\n",
              "      border-radius: 50%;\n",
              "      cursor: pointer;\n",
              "      display: none;\n",
              "      fill: #1967D2;\n",
              "      height: 32px;\n",
              "      padding: 0 0 0 0;\n",
              "      width: 32px;\n",
              "    }\n",
              "\n",
              "    .colab-df-convert:hover {\n",
              "      background-color: #E2EBFA;\n",
              "      box-shadow: 0px 1px 2px rgba(60, 64, 67, 0.3), 0px 1px 3px 1px rgba(60, 64, 67, 0.15);\n",
              "      fill: #174EA6;\n",
              "    }\n",
              "\n",
              "    [theme=dark] .colab-df-convert {\n",
              "      background-color: #3B4455;\n",
              "      fill: #D2E3FC;\n",
              "    }\n",
              "\n",
              "    [theme=dark] .colab-df-convert:hover {\n",
              "      background-color: #434B5C;\n",
              "      box-shadow: 0px 1px 3px 1px rgba(0, 0, 0, 0.15);\n",
              "      filter: drop-shadow(0px 1px 2px rgba(0, 0, 0, 0.3));\n",
              "      fill: #FFFFFF;\n",
              "    }\n",
              "  </style>\n",
              "\n",
              "      <script>\n",
              "        const buttonEl =\n",
              "          document.querySelector('#df-6b5b2c40-8096-4b62-9561-19e7f1599e7a button.colab-df-convert');\n",
              "        buttonEl.style.display =\n",
              "          google.colab.kernel.accessAllowed ? 'block' : 'none';\n",
              "\n",
              "        async function convertToInteractive(key) {\n",
              "          const element = document.querySelector('#df-6b5b2c40-8096-4b62-9561-19e7f1599e7a');\n",
              "          const dataTable =\n",
              "            await google.colab.kernel.invokeFunction('convertToInteractive',\n",
              "                                                     [key], {});\n",
              "          if (!dataTable) return;\n",
              "\n",
              "          const docLinkHtml = 'Like what you see? Visit the ' +\n",
              "            '<a target=\"_blank\" href=https://colab.research.google.com/notebooks/data_table.ipynb>data table notebook</a>'\n",
              "            + ' to learn more about interactive tables.';\n",
              "          element.innerHTML = '';\n",
              "          dataTable['output_type'] = 'display_data';\n",
              "          await google.colab.output.renderOutput(dataTable, element);\n",
              "          const docLink = document.createElement('div');\n",
              "          docLink.innerHTML = docLinkHtml;\n",
              "          element.appendChild(docLink);\n",
              "        }\n",
              "      </script>\n",
              "    </div>\n",
              "  </div>\n",
              "  "
            ]
          },
          "metadata": {},
          "execution_count": 25
        }
      ]
    },
    {
      "cell_type": "code",
      "source": [
        "df_offensive.isnull().sum()"
      ],
      "metadata": {
        "colab": {
          "base_uri": "https://localhost:8080/"
        },
        "id": "k_IDg1F83AlD",
        "outputId": "a1e225ac-c46e-473d-94c4-e5cd219b27c3"
      },
      "execution_count": null,
      "outputs": [
        {
          "output_type": "execute_result",
          "data": {
            "text/plain": [
              "Unnamed: 0    0\n",
              "label         0\n",
              "tweet         0\n",
              "dtype: int64"
            ]
          },
          "metadata": {},
          "execution_count": 26
        }
      ]
    },
    {
      "cell_type": "code",
      "source": [
        "df_offensive.drop(['Unnamed: 0'],axis=1,inplace=True)\n",
        "df_offensive.head(10)"
      ],
      "metadata": {
        "colab": {
          "base_uri": "https://localhost:8080/",
          "height": 363
        },
        "id": "lVcR_nHk3Anm",
        "outputId": "dbfc1804-a565-43db-9309-e9fd628af931"
      },
      "execution_count": null,
      "outputs": [
        {
          "output_type": "execute_result",
          "data": {
            "text/plain": [
              "   label                                              tweet\n",
              "0      0  !!! RT @mayasolovely: As a woman you shouldn't...\n",
              "1      1  !!!!! RT @mleew17: boy dats cold...tyga dwn ba...\n",
              "2      1  !!!!!!! RT @UrKindOfBrand Dawg!!!! RT @80sbaby...\n",
              "3      1  !!!!!!!!! RT @C_G_Anderson: @viva_based she lo...\n",
              "4      1  !!!!!!!!!!!!! RT @ShenikaRoberts: The shit you...\n",
              "5      1  !!!!!!!!!!!!!!!!!!\"@T_Madison_x: The shit just...\n",
              "6      1  !!!!!!\"@__BrighterDays: I can not just sit up ...\n",
              "7      1  !!!!&#8220;@selfiequeenbri: cause I'm tired of...\n",
              "8      1  \" &amp; you might not get ya bitch back &amp; ...\n",
              "9      1  \" @rhythmixx_ :hobbies include: fighting Maria..."
            ],
            "text/html": [
              "\n",
              "  <div id=\"df-358c27e0-bbc1-4897-8c2e-9b82d2ec8347\">\n",
              "    <div class=\"colab-df-container\">\n",
              "      <div>\n",
              "<style scoped>\n",
              "    .dataframe tbody tr th:only-of-type {\n",
              "        vertical-align: middle;\n",
              "    }\n",
              "\n",
              "    .dataframe tbody tr th {\n",
              "        vertical-align: top;\n",
              "    }\n",
              "\n",
              "    .dataframe thead th {\n",
              "        text-align: right;\n",
              "    }\n",
              "</style>\n",
              "<table border=\"1\" class=\"dataframe\">\n",
              "  <thead>\n",
              "    <tr style=\"text-align: right;\">\n",
              "      <th></th>\n",
              "      <th>label</th>\n",
              "      <th>tweet</th>\n",
              "    </tr>\n",
              "  </thead>\n",
              "  <tbody>\n",
              "    <tr>\n",
              "      <th>0</th>\n",
              "      <td>0</td>\n",
              "      <td>!!! RT @mayasolovely: As a woman you shouldn't...</td>\n",
              "    </tr>\n",
              "    <tr>\n",
              "      <th>1</th>\n",
              "      <td>1</td>\n",
              "      <td>!!!!! RT @mleew17: boy dats cold...tyga dwn ba...</td>\n",
              "    </tr>\n",
              "    <tr>\n",
              "      <th>2</th>\n",
              "      <td>1</td>\n",
              "      <td>!!!!!!! RT @UrKindOfBrand Dawg!!!! RT @80sbaby...</td>\n",
              "    </tr>\n",
              "    <tr>\n",
              "      <th>3</th>\n",
              "      <td>1</td>\n",
              "      <td>!!!!!!!!! RT @C_G_Anderson: @viva_based she lo...</td>\n",
              "    </tr>\n",
              "    <tr>\n",
              "      <th>4</th>\n",
              "      <td>1</td>\n",
              "      <td>!!!!!!!!!!!!! RT @ShenikaRoberts: The shit you...</td>\n",
              "    </tr>\n",
              "    <tr>\n",
              "      <th>5</th>\n",
              "      <td>1</td>\n",
              "      <td>!!!!!!!!!!!!!!!!!!\"@T_Madison_x: The shit just...</td>\n",
              "    </tr>\n",
              "    <tr>\n",
              "      <th>6</th>\n",
              "      <td>1</td>\n",
              "      <td>!!!!!!\"@__BrighterDays: I can not just sit up ...</td>\n",
              "    </tr>\n",
              "    <tr>\n",
              "      <th>7</th>\n",
              "      <td>1</td>\n",
              "      <td>!!!!&amp;#8220;@selfiequeenbri: cause I'm tired of...</td>\n",
              "    </tr>\n",
              "    <tr>\n",
              "      <th>8</th>\n",
              "      <td>1</td>\n",
              "      <td>\" &amp;amp; you might not get ya bitch back &amp;amp; ...</td>\n",
              "    </tr>\n",
              "    <tr>\n",
              "      <th>9</th>\n",
              "      <td>1</td>\n",
              "      <td>\" @rhythmixx_ :hobbies include: fighting Maria...</td>\n",
              "    </tr>\n",
              "  </tbody>\n",
              "</table>\n",
              "</div>\n",
              "      <button class=\"colab-df-convert\" onclick=\"convertToInteractive('df-358c27e0-bbc1-4897-8c2e-9b82d2ec8347')\"\n",
              "              title=\"Convert this dataframe to an interactive table.\"\n",
              "              style=\"display:none;\">\n",
              "        \n",
              "  <svg xmlns=\"http://www.w3.org/2000/svg\" height=\"24px\"viewBox=\"0 0 24 24\"\n",
              "       width=\"24px\">\n",
              "    <path d=\"M0 0h24v24H0V0z\" fill=\"none\"/>\n",
              "    <path d=\"M18.56 5.44l.94 2.06.94-2.06 2.06-.94-2.06-.94-.94-2.06-.94 2.06-2.06.94zm-11 1L8.5 8.5l.94-2.06 2.06-.94-2.06-.94L8.5 2.5l-.94 2.06-2.06.94zm10 10l.94 2.06.94-2.06 2.06-.94-2.06-.94-.94-2.06-.94 2.06-2.06.94z\"/><path d=\"M17.41 7.96l-1.37-1.37c-.4-.4-.92-.59-1.43-.59-.52 0-1.04.2-1.43.59L10.3 9.45l-7.72 7.72c-.78.78-.78 2.05 0 2.83L4 21.41c.39.39.9.59 1.41.59.51 0 1.02-.2 1.41-.59l7.78-7.78 2.81-2.81c.8-.78.8-2.07 0-2.86zM5.41 20L4 18.59l7.72-7.72 1.47 1.35L5.41 20z\"/>\n",
              "  </svg>\n",
              "      </button>\n",
              "      \n",
              "  <style>\n",
              "    .colab-df-container {\n",
              "      display:flex;\n",
              "      flex-wrap:wrap;\n",
              "      gap: 12px;\n",
              "    }\n",
              "\n",
              "    .colab-df-convert {\n",
              "      background-color: #E8F0FE;\n",
              "      border: none;\n",
              "      border-radius: 50%;\n",
              "      cursor: pointer;\n",
              "      display: none;\n",
              "      fill: #1967D2;\n",
              "      height: 32px;\n",
              "      padding: 0 0 0 0;\n",
              "      width: 32px;\n",
              "    }\n",
              "\n",
              "    .colab-df-convert:hover {\n",
              "      background-color: #E2EBFA;\n",
              "      box-shadow: 0px 1px 2px rgba(60, 64, 67, 0.3), 0px 1px 3px 1px rgba(60, 64, 67, 0.15);\n",
              "      fill: #174EA6;\n",
              "    }\n",
              "\n",
              "    [theme=dark] .colab-df-convert {\n",
              "      background-color: #3B4455;\n",
              "      fill: #D2E3FC;\n",
              "    }\n",
              "\n",
              "    [theme=dark] .colab-df-convert:hover {\n",
              "      background-color: #434B5C;\n",
              "      box-shadow: 0px 1px 3px 1px rgba(0, 0, 0, 0.15);\n",
              "      filter: drop-shadow(0px 1px 2px rgba(0, 0, 0, 0.3));\n",
              "      fill: #FFFFFF;\n",
              "    }\n",
              "  </style>\n",
              "\n",
              "      <script>\n",
              "        const buttonEl =\n",
              "          document.querySelector('#df-358c27e0-bbc1-4897-8c2e-9b82d2ec8347 button.colab-df-convert');\n",
              "        buttonEl.style.display =\n",
              "          google.colab.kernel.accessAllowed ? 'block' : 'none';\n",
              "\n",
              "        async function convertToInteractive(key) {\n",
              "          const element = document.querySelector('#df-358c27e0-bbc1-4897-8c2e-9b82d2ec8347');\n",
              "          const dataTable =\n",
              "            await google.colab.kernel.invokeFunction('convertToInteractive',\n",
              "                                                     [key], {});\n",
              "          if (!dataTable) return;\n",
              "\n",
              "          const docLinkHtml = 'Like what you see? Visit the ' +\n",
              "            '<a target=\"_blank\" href=https://colab.research.google.com/notebooks/data_table.ipynb>data table notebook</a>'\n",
              "            + ' to learn more about interactive tables.';\n",
              "          element.innerHTML = '';\n",
              "          dataTable['output_type'] = 'display_data';\n",
              "          await google.colab.output.renderOutput(dataTable, element);\n",
              "          const docLink = document.createElement('div');\n",
              "          docLink.innerHTML = docLinkHtml;\n",
              "          element.appendChild(docLink);\n",
              "        }\n",
              "      </script>\n",
              "    </div>\n",
              "  </div>\n",
              "  "
            ]
          },
          "metadata": {},
          "execution_count": 27
        }
      ]
    },
    {
      "cell_type": "code",
      "source": [
        "df_offensive['label'].unique()"
      ],
      "metadata": {
        "colab": {
          "base_uri": "https://localhost:8080/"
        },
        "id": "V0EdjWSx3Ap-",
        "outputId": "7a606c48-dedb-4d3b-bcea-c542f994f607"
      },
      "execution_count": null,
      "outputs": [
        {
          "output_type": "execute_result",
          "data": {
            "text/plain": [
              "array([0, 1])"
            ]
          },
          "metadata": {},
          "execution_count": 28
        }
      ]
    },
    {
      "cell_type": "code",
      "source": [],
      "metadata": {
        "id": "zPkTzZPY3AsX"
      },
      "execution_count": null,
      "outputs": []
    },
    {
      "cell_type": "code",
      "source": [
        "df_offensive.head(5)"
      ],
      "metadata": {
        "colab": {
          "base_uri": "https://localhost:8080/",
          "height": 206
        },
        "id": "HntIlgOM3AuS",
        "outputId": "b3a9ce30-00fc-40f5-d806-7671ce3b4e22"
      },
      "execution_count": null,
      "outputs": [
        {
          "output_type": "execute_result",
          "data": {
            "text/plain": [
              "   label                                              tweet\n",
              "0      0  !!! RT @mayasolovely: As a woman you shouldn't...\n",
              "1      1  !!!!! RT @mleew17: boy dats cold...tyga dwn ba...\n",
              "2      1  !!!!!!! RT @UrKindOfBrand Dawg!!!! RT @80sbaby...\n",
              "3      1  !!!!!!!!! RT @C_G_Anderson: @viva_based she lo...\n",
              "4      1  !!!!!!!!!!!!! RT @ShenikaRoberts: The shit you..."
            ],
            "text/html": [
              "\n",
              "  <div id=\"df-15717ee0-5547-47e6-ba76-b2373b879d4e\">\n",
              "    <div class=\"colab-df-container\">\n",
              "      <div>\n",
              "<style scoped>\n",
              "    .dataframe tbody tr th:only-of-type {\n",
              "        vertical-align: middle;\n",
              "    }\n",
              "\n",
              "    .dataframe tbody tr th {\n",
              "        vertical-align: top;\n",
              "    }\n",
              "\n",
              "    .dataframe thead th {\n",
              "        text-align: right;\n",
              "    }\n",
              "</style>\n",
              "<table border=\"1\" class=\"dataframe\">\n",
              "  <thead>\n",
              "    <tr style=\"text-align: right;\">\n",
              "      <th></th>\n",
              "      <th>label</th>\n",
              "      <th>tweet</th>\n",
              "    </tr>\n",
              "  </thead>\n",
              "  <tbody>\n",
              "    <tr>\n",
              "      <th>0</th>\n",
              "      <td>0</td>\n",
              "      <td>!!! RT @mayasolovely: As a woman you shouldn't...</td>\n",
              "    </tr>\n",
              "    <tr>\n",
              "      <th>1</th>\n",
              "      <td>1</td>\n",
              "      <td>!!!!! RT @mleew17: boy dats cold...tyga dwn ba...</td>\n",
              "    </tr>\n",
              "    <tr>\n",
              "      <th>2</th>\n",
              "      <td>1</td>\n",
              "      <td>!!!!!!! RT @UrKindOfBrand Dawg!!!! RT @80sbaby...</td>\n",
              "    </tr>\n",
              "    <tr>\n",
              "      <th>3</th>\n",
              "      <td>1</td>\n",
              "      <td>!!!!!!!!! RT @C_G_Anderson: @viva_based she lo...</td>\n",
              "    </tr>\n",
              "    <tr>\n",
              "      <th>4</th>\n",
              "      <td>1</td>\n",
              "      <td>!!!!!!!!!!!!! RT @ShenikaRoberts: The shit you...</td>\n",
              "    </tr>\n",
              "  </tbody>\n",
              "</table>\n",
              "</div>\n",
              "      <button class=\"colab-df-convert\" onclick=\"convertToInteractive('df-15717ee0-5547-47e6-ba76-b2373b879d4e')\"\n",
              "              title=\"Convert this dataframe to an interactive table.\"\n",
              "              style=\"display:none;\">\n",
              "        \n",
              "  <svg xmlns=\"http://www.w3.org/2000/svg\" height=\"24px\"viewBox=\"0 0 24 24\"\n",
              "       width=\"24px\">\n",
              "    <path d=\"M0 0h24v24H0V0z\" fill=\"none\"/>\n",
              "    <path d=\"M18.56 5.44l.94 2.06.94-2.06 2.06-.94-2.06-.94-.94-2.06-.94 2.06-2.06.94zm-11 1L8.5 8.5l.94-2.06 2.06-.94-2.06-.94L8.5 2.5l-.94 2.06-2.06.94zm10 10l.94 2.06.94-2.06 2.06-.94-2.06-.94-.94-2.06-.94 2.06-2.06.94z\"/><path d=\"M17.41 7.96l-1.37-1.37c-.4-.4-.92-.59-1.43-.59-.52 0-1.04.2-1.43.59L10.3 9.45l-7.72 7.72c-.78.78-.78 2.05 0 2.83L4 21.41c.39.39.9.59 1.41.59.51 0 1.02-.2 1.41-.59l7.78-7.78 2.81-2.81c.8-.78.8-2.07 0-2.86zM5.41 20L4 18.59l7.72-7.72 1.47 1.35L5.41 20z\"/>\n",
              "  </svg>\n",
              "      </button>\n",
              "      \n",
              "  <style>\n",
              "    .colab-df-container {\n",
              "      display:flex;\n",
              "      flex-wrap:wrap;\n",
              "      gap: 12px;\n",
              "    }\n",
              "\n",
              "    .colab-df-convert {\n",
              "      background-color: #E8F0FE;\n",
              "      border: none;\n",
              "      border-radius: 50%;\n",
              "      cursor: pointer;\n",
              "      display: none;\n",
              "      fill: #1967D2;\n",
              "      height: 32px;\n",
              "      padding: 0 0 0 0;\n",
              "      width: 32px;\n",
              "    }\n",
              "\n",
              "    .colab-df-convert:hover {\n",
              "      background-color: #E2EBFA;\n",
              "      box-shadow: 0px 1px 2px rgba(60, 64, 67, 0.3), 0px 1px 3px 1px rgba(60, 64, 67, 0.15);\n",
              "      fill: #174EA6;\n",
              "    }\n",
              "\n",
              "    [theme=dark] .colab-df-convert {\n",
              "      background-color: #3B4455;\n",
              "      fill: #D2E3FC;\n",
              "    }\n",
              "\n",
              "    [theme=dark] .colab-df-convert:hover {\n",
              "      background-color: #434B5C;\n",
              "      box-shadow: 0px 1px 3px 1px rgba(0, 0, 0, 0.15);\n",
              "      filter: drop-shadow(0px 1px 2px rgba(0, 0, 0, 0.3));\n",
              "      fill: #FFFFFF;\n",
              "    }\n",
              "  </style>\n",
              "\n",
              "      <script>\n",
              "        const buttonEl =\n",
              "          document.querySelector('#df-15717ee0-5547-47e6-ba76-b2373b879d4e button.colab-df-convert');\n",
              "        buttonEl.style.display =\n",
              "          google.colab.kernel.accessAllowed ? 'block' : 'none';\n",
              "\n",
              "        async function convertToInteractive(key) {\n",
              "          const element = document.querySelector('#df-15717ee0-5547-47e6-ba76-b2373b879d4e');\n",
              "          const dataTable =\n",
              "            await google.colab.kernel.invokeFunction('convertToInteractive',\n",
              "                                                     [key], {});\n",
              "          if (!dataTable) return;\n",
              "\n",
              "          const docLinkHtml = 'Like what you see? Visit the ' +\n",
              "            '<a target=\"_blank\" href=https://colab.research.google.com/notebooks/data_table.ipynb>data table notebook</a>'\n",
              "            + ' to learn more about interactive tables.';\n",
              "          element.innerHTML = '';\n",
              "          dataTable['output_type'] = 'display_data';\n",
              "          await google.colab.output.renderOutput(dataTable, element);\n",
              "          const docLink = document.createElement('div');\n",
              "          docLink.innerHTML = docLinkHtml;\n",
              "          element.appendChild(docLink);\n",
              "        }\n",
              "      </script>\n",
              "    </div>\n",
              "  </div>\n",
              "  "
            ]
          },
          "metadata": {},
          "execution_count": 29
        }
      ]
    },
    {
      "cell_type": "code",
      "source": [
        "df_offensive['label'].value_counts()"
      ],
      "metadata": {
        "colab": {
          "base_uri": "https://localhost:8080/"
        },
        "id": "hBInB1es4DYD",
        "outputId": "138b9bf4-925e-4af7-e6a7-c44e8f499b81"
      },
      "execution_count": null,
      "outputs": [
        {
          "output_type": "execute_result",
          "data": {
            "text/plain": [
              "0    33883\n",
              "1    22862\n",
              "Name: label, dtype: int64"
            ]
          },
          "metadata": {},
          "execution_count": 30
        }
      ]
    },
    {
      "cell_type": "markdown",
      "source": [
        "# Merging both data frame ..."
      ],
      "metadata": {
        "id": "mDd-rK2L4UHe"
      }
    },
    {
      "cell_type": "code",
      "source": [
        "frame=[df_twitter,df_offensive]\n",
        "data_frame = pd.concat(frame)\n",
        "data_frame.head()"
      ],
      "metadata": {
        "colab": {
          "base_uri": "https://localhost:8080/",
          "height": 206
        },
        "id": "mXtNXPhz4Dap",
        "outputId": "f49a9dfc-3781-4d73-b142-ea5d23a95140"
      },
      "execution_count": null,
      "outputs": [
        {
          "output_type": "execute_result",
          "data": {
            "text/plain": [
              "   label                                              tweet\n",
              "0      1  hey jamal snickering uncontrollable you want s...\n",
              "1      1                 rt cotton coming out with a banger\n",
              "2      1  this is meant to be sarcasm but it is a good p...\n",
              "3      1  nick really just compared homosexuality to peo...\n",
              "4      1                    protect america first let us go"
            ],
            "text/html": [
              "\n",
              "  <div id=\"df-95e2d414-1484-44ab-9485-d4182134d50c\">\n",
              "    <div class=\"colab-df-container\">\n",
              "      <div>\n",
              "<style scoped>\n",
              "    .dataframe tbody tr th:only-of-type {\n",
              "        vertical-align: middle;\n",
              "    }\n",
              "\n",
              "    .dataframe tbody tr th {\n",
              "        vertical-align: top;\n",
              "    }\n",
              "\n",
              "    .dataframe thead th {\n",
              "        text-align: right;\n",
              "    }\n",
              "</style>\n",
              "<table border=\"1\" class=\"dataframe\">\n",
              "  <thead>\n",
              "    <tr style=\"text-align: right;\">\n",
              "      <th></th>\n",
              "      <th>label</th>\n",
              "      <th>tweet</th>\n",
              "    </tr>\n",
              "  </thead>\n",
              "  <tbody>\n",
              "    <tr>\n",
              "      <th>0</th>\n",
              "      <td>1</td>\n",
              "      <td>hey jamal snickering uncontrollable you want s...</td>\n",
              "    </tr>\n",
              "    <tr>\n",
              "      <th>1</th>\n",
              "      <td>1</td>\n",
              "      <td>rt cotton coming out with a banger</td>\n",
              "    </tr>\n",
              "    <tr>\n",
              "      <th>2</th>\n",
              "      <td>1</td>\n",
              "      <td>this is meant to be sarcasm but it is a good p...</td>\n",
              "    </tr>\n",
              "    <tr>\n",
              "      <th>3</th>\n",
              "      <td>1</td>\n",
              "      <td>nick really just compared homosexuality to peo...</td>\n",
              "    </tr>\n",
              "    <tr>\n",
              "      <th>4</th>\n",
              "      <td>1</td>\n",
              "      <td>protect america first let us go</td>\n",
              "    </tr>\n",
              "  </tbody>\n",
              "</table>\n",
              "</div>\n",
              "      <button class=\"colab-df-convert\" onclick=\"convertToInteractive('df-95e2d414-1484-44ab-9485-d4182134d50c')\"\n",
              "              title=\"Convert this dataframe to an interactive table.\"\n",
              "              style=\"display:none;\">\n",
              "        \n",
              "  <svg xmlns=\"http://www.w3.org/2000/svg\" height=\"24px\"viewBox=\"0 0 24 24\"\n",
              "       width=\"24px\">\n",
              "    <path d=\"M0 0h24v24H0V0z\" fill=\"none\"/>\n",
              "    <path d=\"M18.56 5.44l.94 2.06.94-2.06 2.06-.94-2.06-.94-.94-2.06-.94 2.06-2.06.94zm-11 1L8.5 8.5l.94-2.06 2.06-.94-2.06-.94L8.5 2.5l-.94 2.06-2.06.94zm10 10l.94 2.06.94-2.06 2.06-.94-2.06-.94-.94-2.06-.94 2.06-2.06.94z\"/><path d=\"M17.41 7.96l-1.37-1.37c-.4-.4-.92-.59-1.43-.59-.52 0-1.04.2-1.43.59L10.3 9.45l-7.72 7.72c-.78.78-.78 2.05 0 2.83L4 21.41c.39.39.9.59 1.41.59.51 0 1.02-.2 1.41-.59l7.78-7.78 2.81-2.81c.8-.78.8-2.07 0-2.86zM5.41 20L4 18.59l7.72-7.72 1.47 1.35L5.41 20z\"/>\n",
              "  </svg>\n",
              "      </button>\n",
              "      \n",
              "  <style>\n",
              "    .colab-df-container {\n",
              "      display:flex;\n",
              "      flex-wrap:wrap;\n",
              "      gap: 12px;\n",
              "    }\n",
              "\n",
              "    .colab-df-convert {\n",
              "      background-color: #E8F0FE;\n",
              "      border: none;\n",
              "      border-radius: 50%;\n",
              "      cursor: pointer;\n",
              "      display: none;\n",
              "      fill: #1967D2;\n",
              "      height: 32px;\n",
              "      padding: 0 0 0 0;\n",
              "      width: 32px;\n",
              "    }\n",
              "\n",
              "    .colab-df-convert:hover {\n",
              "      background-color: #E2EBFA;\n",
              "      box-shadow: 0px 1px 2px rgba(60, 64, 67, 0.3), 0px 1px 3px 1px rgba(60, 64, 67, 0.15);\n",
              "      fill: #174EA6;\n",
              "    }\n",
              "\n",
              "    [theme=dark] .colab-df-convert {\n",
              "      background-color: #3B4455;\n",
              "      fill: #D2E3FC;\n",
              "    }\n",
              "\n",
              "    [theme=dark] .colab-df-convert:hover {\n",
              "      background-color: #434B5C;\n",
              "      box-shadow: 0px 1px 3px 1px rgba(0, 0, 0, 0.15);\n",
              "      filter: drop-shadow(0px 1px 2px rgba(0, 0, 0, 0.3));\n",
              "      fill: #FFFFFF;\n",
              "    }\n",
              "  </style>\n",
              "\n",
              "      <script>\n",
              "        const buttonEl =\n",
              "          document.querySelector('#df-95e2d414-1484-44ab-9485-d4182134d50c button.colab-df-convert');\n",
              "        buttonEl.style.display =\n",
              "          google.colab.kernel.accessAllowed ? 'block' : 'none';\n",
              "\n",
              "        async function convertToInteractive(key) {\n",
              "          const element = document.querySelector('#df-95e2d414-1484-44ab-9485-d4182134d50c');\n",
              "          const dataTable =\n",
              "            await google.colab.kernel.invokeFunction('convertToInteractive',\n",
              "                                                     [key], {});\n",
              "          if (!dataTable) return;\n",
              "\n",
              "          const docLinkHtml = 'Like what you see? Visit the ' +\n",
              "            '<a target=\"_blank\" href=https://colab.research.google.com/notebooks/data_table.ipynb>data table notebook</a>'\n",
              "            + ' to learn more about interactive tables.';\n",
              "          element.innerHTML = '';\n",
              "          dataTable['output_type'] = 'display_data';\n",
              "          await google.colab.output.renderOutput(dataTable, element);\n",
              "          const docLink = document.createElement('div');\n",
              "          docLink.innerHTML = docLinkHtml;\n",
              "          element.appendChild(docLink);\n",
              "        }\n",
              "      </script>\n",
              "    </div>\n",
              "  </div>\n",
              "  "
            ]
          },
          "metadata": {},
          "execution_count": 31
        }
      ]
    },
    {
      "cell_type": "code",
      "source": [
        "data_frame['label'].value_counts()"
      ],
      "metadata": {
        "colab": {
          "base_uri": "https://localhost:8080/"
        },
        "id": "NhqkKPBd4Tme",
        "outputId": "658f49f2-cfaf-4202-8844-5a8418c82d91"
      },
      "execution_count": null,
      "outputs": [
        {
          "output_type": "execute_result",
          "data": {
            "text/plain": [
              "0    53883\n",
              "1    42862\n",
              "Name: label, dtype: int64"
            ]
          },
          "metadata": {},
          "execution_count": 32
        }
      ]
    },
    {
      "cell_type": "markdown",
      "source": [
        "# cleaning second data...\n"
      ],
      "metadata": {
        "id": "_wAcASOc4bOv"
      }
    },
    {
      "cell_type": "code",
      "source": [
        "import re\n",
        "import nltk\n",
        "nltk.download('punkt')\n",
        "nltk.download('stopwords')\n",
        "stemmer = nltk.SnowballStemmer(\"english\")\n",
        "from nltk.corpus import stopwords\n",
        "import string\n",
        "stopword=set(stopwords.words('english'))\n"
      ],
      "metadata": {
        "colab": {
          "base_uri": "https://localhost:8080/"
        },
        "id": "BPOipPY-4axD",
        "outputId": "a0de78ae-8a6d-44f9-aa3c-2b51154e6b14"
      },
      "execution_count": null,
      "outputs": [
        {
          "output_type": "stream",
          "name": "stderr",
          "text": [
            "[nltk_data] Downloading package punkt to /root/nltk_data...\n",
            "[nltk_data]   Unzipping tokenizers/punkt.zip.\n",
            "[nltk_data] Downloading package stopwords to /root/nltk_data...\n",
            "[nltk_data]   Unzipping corpora/stopwords.zip.\n"
          ]
        }
      ]
    },
    {
      "cell_type": "code",
      "source": [
        "def clean_text(text):\n",
        "    text = str(text).lower()\n",
        "    text = re.sub('\\[.*?\\]', '', text)\n",
        "    text = re.sub('https?://\\S+|www\\.\\S+', '', text)\n",
        "    text = re.sub('<.*?>+', '', text)\n",
        "    text = re.sub('[%s]' % re.escape(string.punctuation), '', text)\n",
        "    text = re.sub('\\n', '', text)\n",
        "    text = re.sub('\\w*\\d\\w*', '', text)\n",
        "    text = [word for word in text.split(' ') if word not in stopword]\n",
        "    text=\" \".join(text)\n",
        "    text = [stemmer.stem(word) for word in text.split(' ')]\n",
        "    text=\" \".join(text)\n",
        "    return text"
      ],
      "metadata": {
        "id": "xFZhZ7rR4Tou"
      },
      "execution_count": null,
      "outputs": []
    },
    {
      "cell_type": "code",
      "source": [
        "data_frame['tweet']=data_frame['tweet'].apply(clean_text)"
      ],
      "metadata": {
        "id": "-IpWIJe_4Trh"
      },
      "execution_count": null,
      "outputs": []
    },
    {
      "cell_type": "code",
      "source": [
        "data_frame.head()"
      ],
      "metadata": {
        "colab": {
          "base_uri": "https://localhost:8080/",
          "height": 206
        },
        "id": "uldYccGg4Dcz",
        "outputId": "daf856b0-da53-457b-85a9-31b237c83fb3"
      },
      "execution_count": null,
      "outputs": [
        {
          "output_type": "execute_result",
          "data": {
            "text/plain": [
              "   label                                              tweet\n",
              "0      1  hey jamal snicker uncontrol want pff lemonad i...\n",
              "1      1                              rt cotton come banger\n",
              "2      1  meant sarcasm good point consid underwhelm pandem\n",
              "3      1  nick realli compar homosexu peopl shoot head f...\n",
              "4      1                    protect america first let us go"
            ],
            "text/html": [
              "\n",
              "  <div id=\"df-a90d75ca-9440-48cf-b0eb-30c525523c86\">\n",
              "    <div class=\"colab-df-container\">\n",
              "      <div>\n",
              "<style scoped>\n",
              "    .dataframe tbody tr th:only-of-type {\n",
              "        vertical-align: middle;\n",
              "    }\n",
              "\n",
              "    .dataframe tbody tr th {\n",
              "        vertical-align: top;\n",
              "    }\n",
              "\n",
              "    .dataframe thead th {\n",
              "        text-align: right;\n",
              "    }\n",
              "</style>\n",
              "<table border=\"1\" class=\"dataframe\">\n",
              "  <thead>\n",
              "    <tr style=\"text-align: right;\">\n",
              "      <th></th>\n",
              "      <th>label</th>\n",
              "      <th>tweet</th>\n",
              "    </tr>\n",
              "  </thead>\n",
              "  <tbody>\n",
              "    <tr>\n",
              "      <th>0</th>\n",
              "      <td>1</td>\n",
              "      <td>hey jamal snicker uncontrol want pff lemonad i...</td>\n",
              "    </tr>\n",
              "    <tr>\n",
              "      <th>1</th>\n",
              "      <td>1</td>\n",
              "      <td>rt cotton come banger</td>\n",
              "    </tr>\n",
              "    <tr>\n",
              "      <th>2</th>\n",
              "      <td>1</td>\n",
              "      <td>meant sarcasm good point consid underwhelm pandem</td>\n",
              "    </tr>\n",
              "    <tr>\n",
              "      <th>3</th>\n",
              "      <td>1</td>\n",
              "      <td>nick realli compar homosexu peopl shoot head f...</td>\n",
              "    </tr>\n",
              "    <tr>\n",
              "      <th>4</th>\n",
              "      <td>1</td>\n",
              "      <td>protect america first let us go</td>\n",
              "    </tr>\n",
              "  </tbody>\n",
              "</table>\n",
              "</div>\n",
              "      <button class=\"colab-df-convert\" onclick=\"convertToInteractive('df-a90d75ca-9440-48cf-b0eb-30c525523c86')\"\n",
              "              title=\"Convert this dataframe to an interactive table.\"\n",
              "              style=\"display:none;\">\n",
              "        \n",
              "  <svg xmlns=\"http://www.w3.org/2000/svg\" height=\"24px\"viewBox=\"0 0 24 24\"\n",
              "       width=\"24px\">\n",
              "    <path d=\"M0 0h24v24H0V0z\" fill=\"none\"/>\n",
              "    <path d=\"M18.56 5.44l.94 2.06.94-2.06 2.06-.94-2.06-.94-.94-2.06-.94 2.06-2.06.94zm-11 1L8.5 8.5l.94-2.06 2.06-.94-2.06-.94L8.5 2.5l-.94 2.06-2.06.94zm10 10l.94 2.06.94-2.06 2.06-.94-2.06-.94-.94-2.06-.94 2.06-2.06.94z\"/><path d=\"M17.41 7.96l-1.37-1.37c-.4-.4-.92-.59-1.43-.59-.52 0-1.04.2-1.43.59L10.3 9.45l-7.72 7.72c-.78.78-.78 2.05 0 2.83L4 21.41c.39.39.9.59 1.41.59.51 0 1.02-.2 1.41-.59l7.78-7.78 2.81-2.81c.8-.78.8-2.07 0-2.86zM5.41 20L4 18.59l7.72-7.72 1.47 1.35L5.41 20z\"/>\n",
              "  </svg>\n",
              "      </button>\n",
              "      \n",
              "  <style>\n",
              "    .colab-df-container {\n",
              "      display:flex;\n",
              "      flex-wrap:wrap;\n",
              "      gap: 12px;\n",
              "    }\n",
              "\n",
              "    .colab-df-convert {\n",
              "      background-color: #E8F0FE;\n",
              "      border: none;\n",
              "      border-radius: 50%;\n",
              "      cursor: pointer;\n",
              "      display: none;\n",
              "      fill: #1967D2;\n",
              "      height: 32px;\n",
              "      padding: 0 0 0 0;\n",
              "      width: 32px;\n",
              "    }\n",
              "\n",
              "    .colab-df-convert:hover {\n",
              "      background-color: #E2EBFA;\n",
              "      box-shadow: 0px 1px 2px rgba(60, 64, 67, 0.3), 0px 1px 3px 1px rgba(60, 64, 67, 0.15);\n",
              "      fill: #174EA6;\n",
              "    }\n",
              "\n",
              "    [theme=dark] .colab-df-convert {\n",
              "      background-color: #3B4455;\n",
              "      fill: #D2E3FC;\n",
              "    }\n",
              "\n",
              "    [theme=dark] .colab-df-convert:hover {\n",
              "      background-color: #434B5C;\n",
              "      box-shadow: 0px 1px 3px 1px rgba(0, 0, 0, 0.15);\n",
              "      filter: drop-shadow(0px 1px 2px rgba(0, 0, 0, 0.3));\n",
              "      fill: #FFFFFF;\n",
              "    }\n",
              "  </style>\n",
              "\n",
              "      <script>\n",
              "        const buttonEl =\n",
              "          document.querySelector('#df-a90d75ca-9440-48cf-b0eb-30c525523c86 button.colab-df-convert');\n",
              "        buttonEl.style.display =\n",
              "          google.colab.kernel.accessAllowed ? 'block' : 'none';\n",
              "\n",
              "        async function convertToInteractive(key) {\n",
              "          const element = document.querySelector('#df-a90d75ca-9440-48cf-b0eb-30c525523c86');\n",
              "          const dataTable =\n",
              "            await google.colab.kernel.invokeFunction('convertToInteractive',\n",
              "                                                     [key], {});\n",
              "          if (!dataTable) return;\n",
              "\n",
              "          const docLinkHtml = 'Like what you see? Visit the ' +\n",
              "            '<a target=\"_blank\" href=https://colab.research.google.com/notebooks/data_table.ipynb>data table notebook</a>'\n",
              "            + ' to learn more about interactive tables.';\n",
              "          element.innerHTML = '';\n",
              "          dataTable['output_type'] = 'display_data';\n",
              "          await google.colab.output.renderOutput(dataTable, element);\n",
              "          const docLink = document.createElement('div');\n",
              "          docLink.innerHTML = docLinkHtml;\n",
              "          element.appendChild(docLink);\n",
              "        }\n",
              "      </script>\n",
              "    </div>\n",
              "  </div>\n",
              "  "
            ]
          },
          "metadata": {},
          "execution_count": 36
        }
      ]
    },
    {
      "cell_type": "code",
      "source": [
        "data_frame['label'].value_counts()"
      ],
      "metadata": {
        "colab": {
          "base_uri": "https://localhost:8080/"
        },
        "id": "YNv_21QD4DjA",
        "outputId": "e859f59d-b6a2-4876-d76b-4528a1379d39"
      },
      "execution_count": null,
      "outputs": [
        {
          "output_type": "execute_result",
          "data": {
            "text/plain": [
              "0    53883\n",
              "1    42862\n",
              "Name: label, dtype: int64"
            ]
          },
          "metadata": {},
          "execution_count": 37
        }
      ]
    },
    {
      "cell_type": "code",
      "source": [
        "data_frame.head()"
      ],
      "metadata": {
        "colab": {
          "base_uri": "https://localhost:8080/",
          "height": 206
        },
        "id": "cfQLFW_t5Zg9",
        "outputId": "f25ef652-8252-404c-af83-d89bd1f8b881"
      },
      "execution_count": null,
      "outputs": [
        {
          "output_type": "execute_result",
          "data": {
            "text/plain": [
              "   label                                              tweet\n",
              "0      1  hey jamal snicker uncontrol want pff lemonad i...\n",
              "1      1                              rt cotton come banger\n",
              "2      1  meant sarcasm good point consid underwhelm pandem\n",
              "3      1  nick realli compar homosexu peopl shoot head f...\n",
              "4      1                    protect america first let us go"
            ],
            "text/html": [
              "\n",
              "  <div id=\"df-ca37edf1-2c62-4e3a-ad21-4b7007da4468\">\n",
              "    <div class=\"colab-df-container\">\n",
              "      <div>\n",
              "<style scoped>\n",
              "    .dataframe tbody tr th:only-of-type {\n",
              "        vertical-align: middle;\n",
              "    }\n",
              "\n",
              "    .dataframe tbody tr th {\n",
              "        vertical-align: top;\n",
              "    }\n",
              "\n",
              "    .dataframe thead th {\n",
              "        text-align: right;\n",
              "    }\n",
              "</style>\n",
              "<table border=\"1\" class=\"dataframe\">\n",
              "  <thead>\n",
              "    <tr style=\"text-align: right;\">\n",
              "      <th></th>\n",
              "      <th>label</th>\n",
              "      <th>tweet</th>\n",
              "    </tr>\n",
              "  </thead>\n",
              "  <tbody>\n",
              "    <tr>\n",
              "      <th>0</th>\n",
              "      <td>1</td>\n",
              "      <td>hey jamal snicker uncontrol want pff lemonad i...</td>\n",
              "    </tr>\n",
              "    <tr>\n",
              "      <th>1</th>\n",
              "      <td>1</td>\n",
              "      <td>rt cotton come banger</td>\n",
              "    </tr>\n",
              "    <tr>\n",
              "      <th>2</th>\n",
              "      <td>1</td>\n",
              "      <td>meant sarcasm good point consid underwhelm pandem</td>\n",
              "    </tr>\n",
              "    <tr>\n",
              "      <th>3</th>\n",
              "      <td>1</td>\n",
              "      <td>nick realli compar homosexu peopl shoot head f...</td>\n",
              "    </tr>\n",
              "    <tr>\n",
              "      <th>4</th>\n",
              "      <td>1</td>\n",
              "      <td>protect america first let us go</td>\n",
              "    </tr>\n",
              "  </tbody>\n",
              "</table>\n",
              "</div>\n",
              "      <button class=\"colab-df-convert\" onclick=\"convertToInteractive('df-ca37edf1-2c62-4e3a-ad21-4b7007da4468')\"\n",
              "              title=\"Convert this dataframe to an interactive table.\"\n",
              "              style=\"display:none;\">\n",
              "        \n",
              "  <svg xmlns=\"http://www.w3.org/2000/svg\" height=\"24px\"viewBox=\"0 0 24 24\"\n",
              "       width=\"24px\">\n",
              "    <path d=\"M0 0h24v24H0V0z\" fill=\"none\"/>\n",
              "    <path d=\"M18.56 5.44l.94 2.06.94-2.06 2.06-.94-2.06-.94-.94-2.06-.94 2.06-2.06.94zm-11 1L8.5 8.5l.94-2.06 2.06-.94-2.06-.94L8.5 2.5l-.94 2.06-2.06.94zm10 10l.94 2.06.94-2.06 2.06-.94-2.06-.94-.94-2.06-.94 2.06-2.06.94z\"/><path d=\"M17.41 7.96l-1.37-1.37c-.4-.4-.92-.59-1.43-.59-.52 0-1.04.2-1.43.59L10.3 9.45l-7.72 7.72c-.78.78-.78 2.05 0 2.83L4 21.41c.39.39.9.59 1.41.59.51 0 1.02-.2 1.41-.59l7.78-7.78 2.81-2.81c.8-.78.8-2.07 0-2.86zM5.41 20L4 18.59l7.72-7.72 1.47 1.35L5.41 20z\"/>\n",
              "  </svg>\n",
              "      </button>\n",
              "      \n",
              "  <style>\n",
              "    .colab-df-container {\n",
              "      display:flex;\n",
              "      flex-wrap:wrap;\n",
              "      gap: 12px;\n",
              "    }\n",
              "\n",
              "    .colab-df-convert {\n",
              "      background-color: #E8F0FE;\n",
              "      border: none;\n",
              "      border-radius: 50%;\n",
              "      cursor: pointer;\n",
              "      display: none;\n",
              "      fill: #1967D2;\n",
              "      height: 32px;\n",
              "      padding: 0 0 0 0;\n",
              "      width: 32px;\n",
              "    }\n",
              "\n",
              "    .colab-df-convert:hover {\n",
              "      background-color: #E2EBFA;\n",
              "      box-shadow: 0px 1px 2px rgba(60, 64, 67, 0.3), 0px 1px 3px 1px rgba(60, 64, 67, 0.15);\n",
              "      fill: #174EA6;\n",
              "    }\n",
              "\n",
              "    [theme=dark] .colab-df-convert {\n",
              "      background-color: #3B4455;\n",
              "      fill: #D2E3FC;\n",
              "    }\n",
              "\n",
              "    [theme=dark] .colab-df-convert:hover {\n",
              "      background-color: #434B5C;\n",
              "      box-shadow: 0px 1px 3px 1px rgba(0, 0, 0, 0.15);\n",
              "      filter: drop-shadow(0px 1px 2px rgba(0, 0, 0, 0.3));\n",
              "      fill: #FFFFFF;\n",
              "    }\n",
              "  </style>\n",
              "\n",
              "      <script>\n",
              "        const buttonEl =\n",
              "          document.querySelector('#df-ca37edf1-2c62-4e3a-ad21-4b7007da4468 button.colab-df-convert');\n",
              "        buttonEl.style.display =\n",
              "          google.colab.kernel.accessAllowed ? 'block' : 'none';\n",
              "\n",
              "        async function convertToInteractive(key) {\n",
              "          const element = document.querySelector('#df-ca37edf1-2c62-4e3a-ad21-4b7007da4468');\n",
              "          const dataTable =\n",
              "            await google.colab.kernel.invokeFunction('convertToInteractive',\n",
              "                                                     [key], {});\n",
              "          if (!dataTable) return;\n",
              "\n",
              "          const docLinkHtml = 'Like what you see? Visit the ' +\n",
              "            '<a target=\"_blank\" href=https://colab.research.google.com/notebooks/data_table.ipynb>data table notebook</a>'\n",
              "            + ' to learn more about interactive tables.';\n",
              "          element.innerHTML = '';\n",
              "          dataTable['output_type'] = 'display_data';\n",
              "          await google.colab.output.renderOutput(dataTable, element);\n",
              "          const docLink = document.createElement('div');\n",
              "          docLink.innerHTML = docLinkHtml;\n",
              "          element.appendChild(docLink);\n",
              "        }\n",
              "      </script>\n",
              "    </div>\n",
              "  </div>\n",
              "  "
            ]
          },
          "metadata": {},
          "execution_count": 38
        }
      ]
    },
    {
      "cell_type": "code",
      "source": [
        "from wordcloud import WordCloud, STOPWORDS\n",
        "import matplotlib.pyplot as plt\n",
        "import pandas as pd"
      ],
      "metadata": {
        "id": "_3nxpNRf5M_1"
      },
      "execution_count": null,
      "outputs": []
    },
    {
      "cell_type": "code",
      "source": [
        "def make_wordcloud(data_frame):\n",
        "    comment_words=\"\"\n",
        "    for val in data_frame.tweet:\n",
        "        val = str(val).lower()\n",
        "\n",
        "\n",
        "        comment_words += \" \".join(val)+\" \"\n",
        "    print(comment_words[0:100])\n",
        "    wordcloud = WordCloud(width = 800, height = 800,\n",
        "                background_color ='white',\n",
        "                stopwords = stopwords,min_font_size = 10).generate(comment_words)\n",
        "\n",
        "    plt.figure(figsize = (8, 8), facecolor = None)\n",
        "    plt.imshow(wordcloud)\n",
        "    plt.axis(\"off\")\n",
        "    plt.tight_layout(pad = 0)\n",
        "\n",
        "    plt.show()"
      ],
      "metadata": {
        "id": "CD_V0h3Z5NCf"
      },
      "execution_count": null,
      "outputs": []
    },
    {
      "cell_type": "markdown",
      "source": [
        "Data Aumentation"
      ],
      "metadata": {
        "id": "SMUCL8mmUoC7"
      }
    },
    {
      "cell_type": "code",
      "source": [
        "# from nltk.corpus import wordnet\n",
        "# import random\n",
        "# import nltk\n",
        "# nltk.download('wordnet')"
      ],
      "metadata": {
        "id": "OdsFSkavUv8k"
      },
      "execution_count": null,
      "outputs": []
    },
    {
      "cell_type": "code",
      "source": [
        "# # Function to replace a word with a synonym\n",
        "# def replace_word_with_synonym(word):\n",
        "#     synonyms = []\n",
        "#     for syn in wordnet.synsets(word):\n",
        "#         for lemma in syn.lemmas():\n",
        "#             synonyms.append(lemma.name())\n",
        "#     if len(synonyms) > 0:\n",
        "#         return random.choice(synonyms)\n",
        "#     else:\n",
        "#         return word\n",
        "\n"
      ],
      "metadata": {
        "id": "KApDX7w1UnnT"
      },
      "execution_count": null,
      "outputs": []
    },
    {
      "cell_type": "code",
      "source": [
        "# # Augment data\n",
        "# augmented_data = []\n",
        "# for i in range(len(data_frame)):\n",
        "#     label = data_frame.iloc[i]['label']\n",
        "#     tweet = data_frame.iloc[i]['tweet']\n",
        "#     words = tweet.split()\n",
        "#     augmented_tweet = ' '.join([replace_word_with_synonym(word) for word in words])\n",
        "#     augmented_data.append([label, augmented_tweet])\n",
        "\n",
        "# # Convert list back to data frame\n",
        "# augmented_df = pd.DataFrame(augmented_data, columns=['label', 'tweet'])\n",
        "\n",
        "# # Concatenate original and augmented data frames\n",
        "# final_df = pd.concat([data_frame, augmented_df], ignore_index=True)"
      ],
      "metadata": {
        "id": "IIquSuygU4vg"
      },
      "execution_count": null,
      "outputs": []
    },
    {
      "cell_type": "code",
      "source": [
        "data_frame.label.value_counts()"
      ],
      "metadata": {
        "colab": {
          "base_uri": "https://localhost:8080/"
        },
        "id": "J-m0N3tnVNhB",
        "outputId": "47f46261-0358-4173-8e4f-094b0a1ac183"
      },
      "execution_count": null,
      "outputs": [
        {
          "output_type": "execute_result",
          "data": {
            "text/plain": [
              "0    53883\n",
              "1    42862\n",
              "Name: label, dtype: int64"
            ]
          },
          "metadata": {},
          "execution_count": 44
        }
      ]
    },
    {
      "cell_type": "code",
      "source": [
        "x=data_frame['tweet']\n",
        "y=data_frame['label']"
      ],
      "metadata": {
        "id": "px0As31H5NFC"
      },
      "execution_count": null,
      "outputs": []
    },
    {
      "cell_type": "code",
      "source": [
        "from sklearn.model_selection import train_test_split\n",
        "\n",
        "x_train, x_test, y_train, y_test = train_test_split(x, y, random_state=42)\n",
        "print(len(x_train), len(y_train))\n",
        "print(len(x_test), len(y_test))"
      ],
      "metadata": {
        "colab": {
          "base_uri": "https://localhost:8080/"
        },
        "id": "ppVhL5Oz5NH6",
        "outputId": "bb4eafe1-5db9-4055-c2b2-8dcd7da184a9"
      },
      "execution_count": null,
      "outputs": [
        {
          "output_type": "stream",
          "name": "stdout",
          "text": [
            "72558 72558\n",
            "24187 24187\n"
          ]
        }
      ]
    },
    {
      "cell_type": "code",
      "source": [
        "from sklearn.feature_extraction.text import CountVectorizer\n",
        "\n",
        "count = CountVectorizer(stop_words='english', ngram_range=(1,5))\n",
        "x_train_vectorizer=count.fit_transform(x_train)"
      ],
      "metadata": {
        "id": "1BXmp6-15NKE"
      },
      "execution_count": null,
      "outputs": []
    },
    {
      "cell_type": "code",
      "source": [
        "x_train_vectorizer.shape"
      ],
      "metadata": {
        "colab": {
          "base_uri": "https://localhost:8080/"
        },
        "id": "HIPLj3zx5NMY",
        "outputId": "ed6d8382-311e-4cb4-f0a8-df8926082e3a"
      },
      "execution_count": null,
      "outputs": [
        {
          "output_type": "execute_result",
          "data": {
            "text/plain": [
              "(72558, 1139915)"
            ]
          },
          "metadata": {},
          "execution_count": 48
        }
      ]
    },
    {
      "cell_type": "code",
      "source": [
        "x_test_vectorizer=count.transform(x_test)\n",
        "x_train_vectorizer.toarray()\n"
      ],
      "metadata": {
        "colab": {
          "base_uri": "https://localhost:8080/"
        },
        "id": "tdt0Hndz5NOh",
        "outputId": "7950b311-8b44-418e-db46-0ee632c2df6a"
      },
      "execution_count": null,
      "outputs": [
        {
          "output_type": "execute_result",
          "data": {
            "text/plain": [
              "array([[0, 0, 0, ..., 0, 0, 0],\n",
              "       [0, 0, 0, ..., 0, 0, 0],\n",
              "       [0, 0, 0, ..., 0, 0, 0],\n",
              "       ...,\n",
              "       [0, 0, 0, ..., 0, 0, 0],\n",
              "       [0, 0, 0, ..., 0, 0, 0],\n",
              "       [0, 0, 0, ..., 0, 0, 0]])"
            ]
          },
          "metadata": {},
          "execution_count": 49
        }
      ]
    },
    {
      "cell_type": "code",
      "source": [
        "type(x_train_vectorizer)"
      ],
      "metadata": {
        "colab": {
          "base_uri": "https://localhost:8080/"
        },
        "id": "Cxd8j1z55NQ-",
        "outputId": "f2bc4b0b-c952-48e4-b32f-255c51d5211f"
      },
      "execution_count": null,
      "outputs": [
        {
          "output_type": "execute_result",
          "data": {
            "text/plain": [
              "scipy.sparse._csr.csr_matrix"
            ]
          },
          "metadata": {},
          "execution_count": 50
        }
      ]
    },
    {
      "cell_type": "code",
      "source": [
        "count.vocabulary_\n"
      ],
      "metadata": {
        "colab": {
          "base_uri": "https://localhost:8080/"
        },
        "id": "cf7eRlM06Ao2",
        "outputId": "4144c09f-4d22-47ac-f07a-e49ba1a6d1c9"
      },
      "execution_count": null,
      "outputs": [
        {
          "output_type": "execute_result",
          "data": {
            "text/plain": [
              "{'beyonc': 82269,\n",
              " 'set': 862132,\n",
              " 'bad': 60296,\n",
              " 'exampl': 284261,\n",
              " 'women': 1104174,\n",
              " 'speak': 905130,\n",
              " 'husband': 442448,\n",
              " 'beyonc set': 82286,\n",
              " 'set bad': 862188,\n",
              " 'bad exampl': 61087,\n",
              " 'exampl women': 284341,\n",
              " 'women speak': 1105120,\n",
              " 'speak husband': 905365,\n",
              " 'beyonc set bad': 82287,\n",
              " 'set bad exampl': 862189,\n",
              " 'bad exampl women': 61088,\n",
              " 'exampl women speak': 284342,\n",
              " 'women speak husband': 1105121,\n",
              " 'beyonc set bad exampl': 82288,\n",
              " 'set bad exampl women': 862190,\n",
              " 'bad exampl women speak': 61089,\n",
              " 'exampl women speak husband': 284343,\n",
              " 'beyonc set bad exampl women': 82289,\n",
              " 'set bad exampl women speak': 862191,\n",
              " 'bad exampl women speak husband': 61090,\n",
              " 'happi': 397840,\n",
              " 'bihday': 86553,\n",
              " 'twice': 1011329,\n",
              " 'tzuyu': 1014207,\n",
              " 'day': 214451,\n",
              " 'happi bihday': 398112,\n",
              " 'bihday twice': 87850,\n",
              " 'twice tzuyu': 1011412,\n",
              " 'tzuyu day': 1014208,\n",
              " 'happi bihday twice': 398333,\n",
              " 'bihday twice tzuyu': 87851,\n",
              " 'twice tzuyu day': 1011413,\n",
              " 'happi bihday twice tzuyu': 398334,\n",
              " 'bihday twice tzuyu day': 87852,\n",
              " 'happi bihday twice tzuyu day': 398335,\n",
              " 'rt': 785570,\n",
              " 'tokyojetz': 985234,\n",
              " 'nigga': 645090,\n",
              " 'said': 839081,\n",
              " 'bitch': 91249,\n",
              " 'told': 985244,\n",
              " 'sent': 860560,\n",
              " 'ta': 941928,\n",
              " 'jail': 474545,\n",
              " 'man': 579174,\n",
              " 'thought': 970171,\n",
              " 'legal': 516003,\n",
              " 'beat': 70691,\n",
              " 'yo': 1130058,\n",
              " 'hoethat': 428351,\n",
              " 'hoe': 423466,\n",
              " 'rt tokyojetz': 827739,\n",
              " 'tokyojetz nigga': 985235,\n",
              " 'nigga said': 648496,\n",
              " 'said bitch': 839216,\n",
              " 'bitch told': 102814,\n",
              " 'told sent': 985697,\n",
              " 'sent nigga': 860683,\n",
              " 'nigga ta': 648990,\n",
              " 'ta jail': 941948,\n",
              " 'jail man': 474666,\n",
              " 'man thought': 581400,\n",
              " 'thought legal': 970694,\n",
              " 'legal ta': 516098,\n",
              " 'ta beat': 941929,\n",
              " 'beat yo': 71210,\n",
              " 'yo hoethat': 1130842,\n",
              " 'hoethat yo': 428354,\n",
              " 'yo hoe': 1130806,\n",
              " 'rt tokyojetz nigga': 827740,\n",
              " 'tokyojetz nigga said': 985236,\n",
              " 'nigga said bitch': 648500,\n",
              " 'said bitch told': 839265,\n",
              " 'bitch told sent': 102831,\n",
              " 'told sent nigga': 985698,\n",
              " 'sent nigga ta': 860684,\n",
              " 'nigga ta jail': 648991,\n",
              " 'ta jail man': 941949,\n",
              " 'jail man thought': 474667,\n",
              " 'man thought legal': 581410,\n",
              " 'thought legal ta': 970698,\n",
              " 'legal ta beat': 516099,\n",
              " 'ta beat yo': 941930,\n",
              " 'beat yo hoethat': 71217,\n",
              " 'yo hoethat yo': 1130843,\n",
              " 'hoethat yo hoe': 428355,\n",
              " 'rt tokyojetz nigga said': 827741,\n",
              " 'tokyojetz nigga said bitch': 985237,\n",
              " 'nigga said bitch told': 648502,\n",
              " 'said bitch told sent': 839266,\n",
              " 'bitch told sent nigga': 102832,\n",
              " 'told sent nigga ta': 985699,\n",
              " 'sent nigga ta jail': 860685,\n",
              " 'nigga ta jail man': 648992,\n",
              " 'ta jail man thought': 941950,\n",
              " 'jail man thought legal': 474668,\n",
              " 'man thought legal ta': 581411,\n",
              " 'thought legal ta beat': 970699,\n",
              " 'legal ta beat yo': 516100,\n",
              " 'ta beat yo hoethat': 941931,\n",
              " 'beat yo hoethat yo': 71218,\n",
              " 'yo hoethat yo hoe': 1130844,\n",
              " 'rt tokyojetz nigga said bitch': 827742,\n",
              " 'tokyojetz nigga said bitch told': 985238,\n",
              " 'nigga said bitch told sent': 648503,\n",
              " 'said bitch told sent nigga': 839267,\n",
              " 'bitch told sent nigga ta': 102833,\n",
              " 'told sent nigga ta jail': 985700,\n",
              " 'sent nigga ta jail man': 860686,\n",
              " 'nigga ta jail man thought': 648993,\n",
              " 'ta jail man thought legal': 941951,\n",
              " 'jail man thought legal ta': 474669,\n",
              " 'man thought legal ta beat': 581412,\n",
              " 'thought legal ta beat yo': 970700,\n",
              " 'legal ta beat yo hoethat': 516101,\n",
              " 'ta beat yo hoethat yo': 941932,\n",
              " 'beat yo hoethat yo hoe': 71219,\n",
              " 'bom': 113337,\n",
              " 'dia': 233482,\n",
              " 'good': 366871,\n",
              " 'morn': 615870,\n",
              " 'bonjour': 113921,\n",
              " 'shyspr': 876650,\n",
              " 'soulshin': 903004,\n",
              " 'fotoencantada': 328041,\n",
              " 'igeuropaâ': 447047,\n",
              " 'bom dia': 113338,\n",
              " 'dia good': 233487,\n",
              " 'good morn': 368688,\n",
              " 'morn bonjour': 615983,\n",
              " 'bonjour shyspr': 113926,\n",
              " 'shyspr soulshin': 876651,\n",
              " 'soulshin fotoencantada': 903005,\n",
              " 'fotoencantada igeuropaâ': 328042,\n",
              " 'bom dia good': 113339,\n",
              " 'dia good morn': 233488,\n",
              " 'good morn bonjour': 368716,\n",
              " 'morn bonjour shyspr': 615984,\n",
              " 'bonjour shyspr soulshin': 113927,\n",
              " 'shyspr soulshin fotoencantada': 876652,\n",
              " 'soulshin fotoencantada igeuropaâ': 903006,\n",
              " 'bom dia good morn': 113340,\n",
              " 'dia good morn bonjour': 233489,\n",
              " 'good morn bonjour shyspr': 368717,\n",
              " 'morn bonjour shyspr soulshin': 615985,\n",
              " 'bonjour shyspr soulshin fotoencantada': 113928,\n",
              " 'shyspr soulshin fotoencantada igeuropaâ': 876653,\n",
              " 'bom dia good morn bonjour': 113341,\n",
              " 'dia good morn bonjour shyspr': 233490,\n",
              " 'good morn bonjour shyspr soulshin': 368718,\n",
              " 'morn bonjour shyspr soulshin fotoencantada': 615986,\n",
              " 'bonjour shyspr soulshin fotoencantada igeuropaâ': 113929,\n",
              " 'im': 449757,\n",
              " 'sorri': 901751,\n",
              " 'costum': 189830,\n",
              " 'naughti': 629463,\n",
              " 'school': 850943,\n",
              " 'girl': 356004,\n",
              " 'yr': 1134739,\n",
              " 'forev': 326023,\n",
              " 'consid': 184059,\n",
              " 'basic': 67101,\n",
              " 'becreat': 73439,\n",
              " 'follow': 322077,\n",
              " 'im sorri': 454363,\n",
              " 'sorri costum': 901860,\n",
              " 'costum naughti': 189847,\n",
              " 'naughti school': 629523,\n",
              " 'school girl': 851311,\n",
              " 'girl yr': 358776,\n",
              " 'yr forev': 1134753,\n",
              " 'forev consid': 326082,\n",
              " 'consid basic': 184076,\n",
              " 'basic bitch': 67126,\n",
              " 'bitch becreat': 92428,\n",
              " 'becreat follow': 73440,\n",
              " 'im sorri costum': 454370,\n",
              " 'sorri costum naughti': 901861,\n",
              " 'costum naughti school': 189848,\n",
              " 'naughti school girl': 629524,\n",
              " 'school girl yr': 851313,\n",
              " 'girl yr forev': 358777,\n",
              " 'yr forev consid': 1134754,\n",
              " 'forev consid basic': 326083,\n",
              " 'consid basic bitch': 184077,\n",
              " 'basic bitch becreat': 67130,\n",
              " 'bitch becreat follow': 92429,\n",
              " 'im sorri costum naughti': 454371,\n",
              " 'sorri costum naughti school': 901862,\n",
              " 'costum naughti school girl': 189849,\n",
              " 'naughti school girl yr': 629525,\n",
              " 'school girl yr forev': 851314,\n",
              " 'girl yr forev consid': 358778,\n",
              " 'yr forev consid basic': 1134755,\n",
              " 'forev consid basic bitch': 326084,\n",
              " 'consid basic bitch becreat': 184078,\n",
              " 'basic bitch becreat follow': 67131,\n",
              " 'im sorri costum naughti school': 454372,\n",
              " 'sorri costum naughti school girl': 901863,\n",
              " 'costum naughti school girl yr': 189850,\n",
              " 'naughti school girl yr forev': 629526,\n",
              " 'school girl yr forev consid': 851315,\n",
              " 'girl yr forev consid basic': 358779,\n",
              " 'yr forev consid basic bitch': 1134756,\n",
              " 'forev consid basic bitch becreat': 326085,\n",
              " 'consid basic bitch becreat follow': 184079,\n",
              " 'fuck': 336335,\n",
              " 'guy': 389984,\n",
              " 'rail': 746932,\n",
              " 'open': 672520,\n",
              " 'fuck thought': 340668,\n",
              " 'thought guy': 970552,\n",
              " 'guy rail': 391018,\n",
              " 'rail open': 746941,\n",
              " 'fuck thought guy': 340669,\n",
              " 'thought guy rail': 970553,\n",
              " 'guy rail open': 391019,\n",
              " 'fuck thought guy rail': 340670,\n",
              " 'thought guy rail open': 970554,\n",
              " 'fuck thought guy rail open': 340671,\n",
              " 'person': 697539,\n",
              " 'automat': 54604,\n",
              " 'check': 155705,\n",
              " 'person follow': 697809,\n",
              " 'follow automat': 322127,\n",
              " 'automat check': 54616,\n",
              " 'person follow automat': 697810,\n",
              " 'follow automat check': 322128,\n",
              " 'person follow automat check': 697811,\n",
              " 'unfollow': 1018183,\n",
              " 'person unfollow': 698335,\n",
              " 'unfollow automat': 1018200,\n",
              " 'person unfollow automat': 698336,\n",
              " 'unfollow automat check': 1018201,\n",
              " 'person unfollow automat check': 698337,\n",
              " 'california': 137858,\n",
              " 'citi': 164415,\n",
              " 'california citi': 137881,\n",
              " 'life': 522888,\n",
              " 'gonna': 365903,\n",
              " 'blame': 107507,\n",
              " 'tammi': 945819,\n",
              " 'life hoe': 523963,\n",
              " 'hoe gonna': 425111,\n",
              " 'gonna hoe': 366285,\n",
              " 'hoe blame': 424029,\n",
              " 'blame tammi': 107703,\n",
              " 'life hoe gonna': 523964,\n",
              " 'hoe gonna hoe': 425126,\n",
              " 'gonna hoe blame': 366286,\n",
              " 'hoe blame tammi': 424030,\n",
              " 'life hoe gonna hoe': 523965,\n",
              " 'hoe gonna hoe blame': 425127,\n",
              " 'gonna hoe blame tammi': 366287,\n",
              " 'life hoe gonna hoe blame': 523966,\n",
              " 'hoe gonna hoe blame tammi': 425128,\n",
              " 'plannedsickday': 707324,\n",
              " 'hey': 417444,\n",
              " 'screen': 853378,\n",
              " 'shot': 874524,\n",
              " 'djks': 242281,\n",
              " 'wiki': 1096794,\n",
              " 'page': 680707,\n",
              " 'updat': 1020884,\n",
              " 'regard': 763529,\n",
              " 'trash': 994194,\n",
              " 'incid': 459167,\n",
              " 'plannedsickday hey': 707325,\n",
              " 'hey screen': 417945,\n",
              " 'screen shot': 853464,\n",
              " 'shot djks': 874630,\n",
              " 'djks wiki': 242282,\n",
              " 'wiki page': 1096799,\n",
              " 'page updat': 680876,\n",
              " 'updat regard': 1021097,\n",
              " 'regard trash': 763594,\n",
              " 'trash incid': 994746,\n",
              " 'plannedsickday hey screen': 707326,\n",
              " 'hey screen shot': 417946,\n",
              " 'screen shot djks': 853469,\n",
              " 'shot djks wiki': 874631,\n",
              " 'djks wiki page': 242283,\n",
              " 'wiki page updat': 1096800,\n",
              " 'page updat regard': 680877,\n",
              " 'updat regard trash': 1021098,\n",
              " 'regard trash incid': 763595,\n",
              " 'plannedsickday hey screen shot': 707327,\n",
              " 'hey screen shot djks': 417947,\n",
              " 'screen shot djks wiki': 853470,\n",
              " 'shot djks wiki page': 874632,\n",
              " 'djks wiki page updat': 242284,\n",
              " 'wiki page updat regard': 1096801,\n",
              " 'page updat regard trash': 680878,\n",
              " 'updat regard trash incid': 1021099,\n",
              " 'plannedsickday hey screen shot djks': 707328,\n",
              " 'hey screen shot djks wiki': 417948,\n",
              " 'screen shot djks wiki page': 853471,\n",
              " 'shot djks wiki page updat': 874633,\n",
              " 'djks wiki page updat regard': 242285,\n",
              " 'wiki page updat regard trash': 1096802,\n",
              " 'page updat regard trash incid': 680879,\n",
              " 'throw': 972200,\n",
              " 'subtl': 929107,\n",
              " 'jab': 473829,\n",
              " 'obama': 661763,\n",
              " 'focus': 321212,\n",
              " 'complet': 180440,\n",
              " 'victim': 1057309,\n",
              " 'famili': 296216,\n",
              " 'throw subtl': 972571,\n",
              " 'subtl jab': 929117,\n",
              " 'jab obama': 473839,\n",
              " 'obama focus': 661972,\n",
              " 'focus complet': 321248,\n",
              " 'complet victim': 180750,\n",
              " 'victim famili': 1057403,\n",
              " 'throw subtl jab': 972572,\n",
              " 'subtl jab obama': 929118,\n",
              " 'jab obama focus': 473840,\n",
              " 'obama focus complet': 661973,\n",
              " 'focus complet victim': 321249,\n",
              " 'complet victim famili': 180751,\n",
              " 'throw subtl jab obama': 972573,\n",
              " 'subtl jab obama focus': 929119,\n",
              " 'jab obama focus complet': 473841,\n",
              " 'obama focus complet victim': 661974,\n",
              " 'focus complet victim famili': 321250,\n",
              " 'throw subtl jab obama focus': 972574,\n",
              " 'subtl jab obama focus complet': 929120,\n",
              " 'jab obama focus complet victim': 473842,\n",
              " 'obama focus complet victim famili': 661975,\n",
              " 'user': 1025373,\n",
              " 'simpl': 878880,\n",
              " 'effect': 265974,\n",
              " 'tip': 979786,\n",
              " 'advic': 8542,\n",
              " 'help': 414889,\n",
              " 'journey': 483960,\n",
              " 'singl': 880645,\n",
              " 'mom': 609979,\n",
              " 'agaâ': 10366,\n",
              " 'user simpl': 1043253,\n",
              " 'simpl effect': 878904,\n",
              " 'effect tip': 266077,\n",
              " 'tip advic': 979790,\n",
              " 'advic help': 8584,\n",
              " 'help journey': 415291,\n",
              " 'journey singl': 484013,\n",
              " 'singl mom': 880946,\n",
              " 'mom agaâ': 609984,\n",
              " 'user simpl effect': 1043254,\n",
              " 'simpl effect tip': 878905,\n",
              " 'effect tip advic': 266078,\n",
              " 'tip advic help': 979791,\n",
              " 'advic help journey': 8585,\n",
              " 'help journey singl': 415292,\n",
              " 'journey singl mom': 484014,\n",
              " 'singl mom agaâ': 880947,\n",
              " 'user simpl effect tip': 1043255,\n",
              " 'simpl effect tip advic': 878906,\n",
              " 'effect tip advic help': 266079,\n",
              " 'tip advic help journey': 979792,\n",
              " 'advic help journey singl': 8586,\n",
              " 'help journey singl mom': 415293,\n",
              " 'journey singl mom agaâ': 484015,\n",
              " 'user simpl effect tip advic': 1043256,\n",
              " 'simpl effect tip advic help': 878907,\n",
              " 'effect tip advic help journey': 266080,\n",
              " 'tip advic help journey singl': 979793,\n",
              " 'advic help journey singl mom': 8587,\n",
              " 'help journey singl mom agaâ': 415294,\n",
              " 'shut': 876091,\n",
              " 'radiat': 746277,\n",
              " 'leak': 512252,\n",
              " 'post': 719474,\n",
              " 'giant': 354928,\n",
              " 'explos': 287531,\n",
              " 'pic': 701588,\n",
              " 'poor': 716609,\n",
              " 'misl': 605711,\n",
              " 'yourenothelp': 1133495,\n",
              " 'automat shut': 54654,\n",
              " 'shut radiat': 876398,\n",
              " 'radiat leak': 746283,\n",
              " 'leak user': 512331,\n",
              " 'user post': 1040700,\n",
              " 'post giant': 719695,\n",
              " 'giant explos': 354965,\n",
              " 'explos pic': 287559,\n",
              " 'pic poor': 701955,\n",
              " 'poor misl': 716803,\n",
              " 'misl follow': 605712,\n",
              " 'follow yourenothelp': 323469,\n",
              " 'automat shut radiat': 54655,\n",
              " 'shut radiat leak': 876399,\n",
              " 'radiat leak user': 746284,\n",
              " 'leak user post': 512332,\n",
              " 'user post giant': 1040709,\n",
              " 'post giant explos': 719696,\n",
              " 'giant explos pic': 354966,\n",
              " 'explos pic poor': 287560,\n",
              " 'pic poor misl': 701956,\n",
              " 'poor misl follow': 716804,\n",
              " 'misl follow yourenothelp': 605713,\n",
              " 'automat shut radiat leak': 54656,\n",
              " 'shut radiat leak user': 876400,\n",
              " 'radiat leak user post': 746285,\n",
              " 'leak user post giant': 512333,\n",
              " 'user post giant explos': 1040710,\n",
              " 'post giant explos pic': 719697,\n",
              " 'giant explos pic poor': 354967,\n",
              " 'explos pic poor misl': 287561,\n",
              " 'pic poor misl follow': 701957,\n",
              " 'poor misl follow yourenothelp': 716805,\n",
              " 'automat shut radiat leak user': 54657,\n",
              " 'shut radiat leak user post': 876401,\n",
              " 'radiat leak user post giant': 746286,\n",
              " 'leak user post giant explos': 512334,\n",
              " 'user post giant explos pic': 1040711,\n",
              " 'post giant explos pic poor': 719698,\n",
              " 'giant explos pic poor misl': 354968,\n",
              " 'explos pic poor misl follow': 287562,\n",
              " 'pic poor misl follow yourenothelp': 701958,\n",
              " 'yellen': 1127195,\n",
              " 'bitcoin': 104857,\n",
              " 'ineffici': 461220,\n",
              " 'later': 508569,\n",
              " 'feder': 305808,\n",
              " 'reserv': 770530,\n",
              " 'goe': 363374,\n",
              " 'rt yellen': 833058,\n",
              " 'yellen bitcoin': 1127196,\n",
              " 'bitcoin ineffici': 104865,\n",
              " 'ineffici day': 461221,\n",
              " 'day later': 217279,\n",
              " 'later feder': 508617,\n",
              " 'feder reserv': 305902,\n",
              " 'reserv goe': 770544,\n",
              " 'rt yellen bitcoin': 833059,\n",
              " 'yellen bitcoin ineffici': 1127197,\n",
              " 'bitcoin ineffici day': 104866,\n",
              " 'ineffici day later': 461222,\n",
              " 'day later feder': 217282,\n",
              " 'later feder reserv': 508618,\n",
              " 'feder reserv goe': 305903,\n",
              " 'rt yellen bitcoin ineffici': 833060,\n",
              " 'yellen bitcoin ineffici day': 1127198,\n",
              " 'bitcoin ineffici day later': 104867,\n",
              " 'ineffici day later feder': 461223,\n",
              " 'day later feder reserv': 217283,\n",
              " 'later feder reserv goe': 508619,\n",
              " 'rt yellen bitcoin ineffici day': 833061,\n",
              " 'yellen bitcoin ineffici day later': 1127199,\n",
              " 'bitcoin ineffici day later feder': 104868,\n",
              " 'ineffici day later feder reserv': 461224,\n",
              " 'day later feder reserv goe': 217284,\n",
              " 'statement': 915764,\n",
              " 'presidenti': 726227,\n",
              " 'memorandum': 595508,\n",
              " 'sign': 877645,\n",
              " 'tonight': 987648,\n",
              " 'rt statement': 824284,\n",
              " 'statement presidenti': 915883,\n",
              " 'presidenti memorandum': 726273,\n",
              " 'memorandum sign': 595509,\n",
              " 'sign tonight': 878052,\n",
              " 'rt statement presidenti': 824297,\n",
              " 'statement presidenti memorandum': 915887,\n",
              " 'presidenti memorandum sign': 726274,\n",
              " 'memorandum sign tonight': 595510,\n",
              " 'rt statement presidenti memorandum': 824298,\n",
              " 'statement presidenti memorandum sign': 915888,\n",
              " 'presidenti memorandum sign tonight': 726275,\n",
              " 'rt statement presidenti memorandum sign': 824299,\n",
              " 'statement presidenti memorandum sign tonight': 915889,\n",
              " 'super': 934688,\n",
              " 'user user': 1046764,\n",
              " 'user super': 1044373,\n",
              " 'user user user': 1049788,\n",
              " 'user user super': 1049444,\n",
              " 'user user user user': 1050548,\n",
              " 'user user user super': 1050459,\n",
              " 'user user user user super': 1050682,\n",
              " 'kazatta': 489168,\n",
              " 'woulda': 1114121,\n",
              " 'jus': 486277,\n",
              " 'skylar': 884399,\n",
              " 'night': 651096,\n",
              " 'got': 372354,\n",
              " 'flight': 319132,\n",
              " 'morninyou': 617368,\n",
              " 'wit': 1100881,\n",
              " 'nah': 626120,\n",
              " 'textin': 956005,\n",
              " 'brazilian': 122392,\n",
              " 'kazatta woulda': 489184,\n",
              " 'woulda jus': 1114150,\n",
              " 'jus told': 486465,\n",
              " 'told skylar': 985737,\n",
              " 'skylar night': 884404,\n",
              " 'night hey': 651597,\n",
              " 'hey got': 417679,\n",
              " 'got flight': 373930,\n",
              " 'flight morninyou': 319253,\n",
              " 'morninyou wit': 617369,\n",
              " 'wit nah': 1101431,\n",
              " 'nah textin': 626441,\n",
              " 'textin brazilian': 956006,\n",
              " 'brazilian bitch': 122399,\n",
              " 'kazatta woulda jus': 489185,\n",
              " 'woulda jus told': 1114151,\n",
              " 'jus told skylar': 486466,\n",
              " 'told skylar night': 985738,\n",
              " 'skylar night hey': 884405,\n",
              " 'night hey got': 651598,\n",
              " 'hey got flight': 417680,\n",
              " 'got flight morninyou': 373931,\n",
              " 'flight morninyou wit': 319254,\n",
              " 'morninyou wit nah': 617370,\n",
              " 'wit nah textin': 1101432,\n",
              " 'nah textin brazilian': 626442,\n",
              " 'textin brazilian bitch': 956007,\n",
              " 'kazatta woulda jus told': 489186,\n",
              " 'woulda jus told skylar': 1114152,\n",
              " 'jus told skylar night': 486467,\n",
              " 'told skylar night hey': 985739,\n",
              " 'skylar night hey got': 884406,\n",
              " 'night hey got flight': 651599,\n",
              " 'hey got flight morninyou': 417681,\n",
              " 'got flight morninyou wit': 373932,\n",
              " 'flight morninyou wit nah': 319255,\n",
              " 'morninyou wit nah textin': 617371,\n",
              " 'wit nah textin brazilian': 1101433,\n",
              " 'nah textin brazilian bitch': 626443,\n",
              " 'kazatta woulda jus told skylar': 489187,\n",
              " 'woulda jus told skylar night': 1114153,\n",
              " 'jus told skylar night hey': 486468,\n",
              " 'told skylar night hey got': 985740,\n",
              " 'skylar night hey got flight': 884407,\n",
              " 'night hey got flight morninyou': 651600,\n",
              " 'hey got flight morninyou wit': 417682,\n",
              " 'got flight morninyou wit nah': 373933,\n",
              " 'flight morninyou wit nah textin': 319256,\n",
              " 'morninyou wit nah textin brazilian': 617372,\n",
              " 'wit nah textin brazilian bitch': 1101434,\n",
              " 'case': 145083,\n",
              " 'faith': 294756,\n",
              " 'live': 542525,\n",
              " 'law': 510247,\n",
              " 'rt case': 791464,\n",
              " 'case faith': 145177,\n",
              " 'faith live': 294843,\n",
              " 'live law': 543234,\n",
              " 'rt case faith': 791472,\n",
              " 'case faith live': 145178,\n",
              " 'faith live law': 294844,\n",
              " 'rt case faith live': 791473,\n",
              " 'case faith live law': 145179,\n",
              " 'rt case faith live law': 791474,\n",
              " 'biden': 82945,\n",
              " 'feed': 305977,\n",
              " 'cut': 203388,\n",
              " 'say': 845704,\n",
              " 'question': 742567,\n",
              " 'biden feed': 83337,\n",
              " 'feed cut': 306011,\n",
              " 'cut say': 203753,\n",
              " 'say question': 848200,\n",
              " 'biden feed cut': 83338,\n",
              " 'feed cut say': 306012,\n",
              " 'cut say question': 203754,\n",
              " 'biden feed cut say': 83339,\n",
              " 'feed cut say question': 306013,\n",
              " 'biden feed cut say question': 83340,\n",
              " 'integr': 465580,\n",
              " 'honesti': 432370,\n",
              " 'leadership': 511982,\n",
              " 'quot': 743968,\n",
              " 'inspir': 463356,\n",
              " 'integr honesti': 465598,\n",
              " 'honesti leadership': 432378,\n",
              " 'leadership quot': 512050,\n",
              " 'quot quot': 744234,\n",
              " 'quot inspir': 744113,\n",
              " 'integr honesti leadership': 465599,\n",
              " 'honesti leadership quot': 432379,\n",
              " 'leadership quot quot': 512055,\n",
              " 'quot quot inspir': 744238,\n",
              " 'integr honesti leadership quot': 465600,\n",
              " 'honesti leadership quot quot': 432380,\n",
              " 'leadership quot quot inspir': 512056,\n",
              " 'integr honesti leadership quot quot': 465601,\n",
              " 'honesti leadership quot quot inspir': 432381,\n",
              " 'stanc': 912154,\n",
              " 'sock': 894278,\n",
              " 'stanc sock': 912164,\n",
              " 'sock trash': 894343,\n",
              " 'stanc sock trash': 912165,\n",
              " 'postprettypussi': 720503,\n",
              " 'eat': 263195,\n",
              " 'milk': 602665,\n",
              " 'gotta': 377852,\n",
              " 'shape': 865769,\n",
              " 'pussi': 738409,\n",
              " 'lip': 538988,\n",
              " 'tho': 969397,\n",
              " 'wheat': 1091989,\n",
              " 'organ': 675435,\n",
              " 'rt postprettypussi': 817856,\n",
              " 'postprettypussi eat': 720504,\n",
              " 'eat milk': 263735,\n",
              " 'milk rt': 602727,\n",
              " 'rt gotta': 800833,\n",
              " 'gotta shape': 378427,\n",
              " 'shape pussi': 865829,\n",
              " 'pussi lip': 739697,\n",
              " 'lip tho': 539098,\n",
              " 'tho postprettypussi': 969633,\n",
              " 'postprettypussi wheat': 720508,\n",
              " 'wheat organ': 1091990,\n",
              " 'organ pussi': 675568,\n",
              " 'rt postprettypussi eat': 817857,\n",
              " 'postprettypussi eat milk': 720505,\n",
              " 'eat milk rt': 263736,\n",
              " 'milk rt gotta': 602728,\n",
              " 'rt gotta shape': 800837,\n",
              " 'gotta shape pussi': 378428,\n",
              " 'shape pussi lip': 865830,\n",
              " 'pussi lip tho': 739711,\n",
              " 'lip tho postprettypussi': 539099,\n",
              " 'tho postprettypussi wheat': 969634,\n",
              " 'postprettypussi wheat organ': 720509,\n",
              " 'wheat organ pussi': 1091991,\n",
              " 'rt postprettypussi eat milk': 817858,\n",
              " 'postprettypussi eat milk rt': 720506,\n",
              " 'eat milk rt gotta': 263737,\n",
              " 'milk rt gotta shape': 602729,\n",
              " 'rt gotta shape pussi': 800838,\n",
              " 'gotta shape pussi lip': 378429,\n",
              " 'shape pussi lip tho': 865831,\n",
              " 'pussi lip tho postprettypussi': 739712,\n",
              " 'lip tho postprettypussi wheat': 539100,\n",
              " 'tho postprettypussi wheat organ': 969635,\n",
              " 'postprettypussi wheat organ pussi': 720510,\n",
              " 'rt postprettypussi eat milk rt': 817859,\n",
              " 'postprettypussi eat milk rt gotta': 720507,\n",
              " 'eat milk rt gotta shape': 263738,\n",
              " 'milk rt gotta shape pussi': 602730,\n",
              " 'rt gotta shape pussi lip': 800839,\n",
              " 'gotta shape pussi lip tho': 378430,\n",
              " 'shape pussi lip tho postprettypussi': 865832,\n",
              " 'pussi lip tho postprettypussi wheat': 739713,\n",
              " 'lip tho postprettypussi wheat organ': 539101,\n",
              " 'tho postprettypussi wheat organ pussi': 969636,\n",
              " 'mr': 620058,\n",
              " 'trump': 1002595,\n",
              " 'time': 975452,\n",
              " 'stay': 916250,\n",
              " 'messag': 597937,\n",
              " 'job': 479931,\n",
              " 'secur': 855924,\n",
              " 'mr trump': 620258,\n",
              " 'trump fuck': 1003309,\n",
              " 'fuck time': 340700,\n",
              " 'time stay': 978453,\n",
              " 'stay messag': 916772,\n",
              " 'messag job': 598051,\n",
              " 'job secur': 480610,\n",
              " 'mr trump fuck': 620262,\n",
              " 'trump fuck time': 1003320,\n",
              " 'fuck time stay': 340706,\n",
              " 'time stay messag': 978454,\n",
              " 'stay messag job': 916776,\n",
              " 'messag job secur': 598052,\n",
              " 'mr trump fuck time': 620263,\n",
              " 'trump fuck time stay': 1003321,\n",
              " 'fuck time stay messag': 340707,\n",
              " 'time stay messag job': 978455,\n",
              " 'stay messag job secur': 916777,\n",
              " 'mr trump fuck time stay': 620264,\n",
              " 'trump fuck time stay messag': 1003322,\n",
              " 'fuck time stay messag job': 340708,\n",
              " 'time stay messag job secur': 978456,\n",
              " 'victor': 1057579,\n",
              " 'davi': 213946,\n",
              " 'hanson': 396850,\n",
              " 'new': 636996,\n",
              " 'book': 114272,\n",
              " 'rt victor': 829969,\n",
              " 'victor davi': 1057590,\n",
              " 'davi hanson': 213966,\n",
              " 'hanson new': 396851,\n",
              " 'new book': 637382,\n",
              " 'book case': 114359,\n",
              " 'case trump': 145360,\n",
              " 'rt victor davi': 829970,\n",
              " 'victor davi hanson': 1057591,\n",
              " 'davi hanson new': 213967,\n",
              " 'hanson new book': 396852,\n",
              " 'new book case': 637386,\n",
              " 'book case trump': 114360,\n",
              " 'rt victor davi hanson': 829971,\n",
              " 'victor davi hanson new': 1057592,\n",
              " 'davi hanson new book': 213968,\n",
              " 'hanson new book case': 396853,\n",
              " 'new book case trump': 637387,\n",
              " 'rt victor davi hanson new': 829972,\n",
              " 'victor davi hanson new book': 1057593,\n",
              " 'davi hanson new book case': 213969,\n",
              " 'hanson new book case trump': 396854,\n",
              " 'divers': 241734,\n",
              " 'success': 929234,\n",
              " 'elect': 266936,\n",
              " 'divers success': 241780,\n",
              " 'success elect': 929301,\n",
              " 'divers success elect': 241781,\n",
              " 'todayâ': 984382,\n",
              " 'attitud': 53017,\n",
              " 'common': 178970,\n",
              " 'norman': 656244,\n",
              " 'bate': 67831,\n",
              " 'psycho': 735240,\n",
              " 'femin': 310413,\n",
              " 'hollaback': 429755,\n",
              " 'todayâ attitud': 984383,\n",
              " 'attitud women': 53206,\n",
              " 'women got': 1104577,\n",
              " 'got common': 373318,\n",
              " 'common norman': 179012,\n",
              " 'norman bate': 656245,\n",
              " 'bate psycho': 67835,\n",
              " 'psycho femin': 735250,\n",
              " 'femin hollaback': 310462,\n",
              " 'todayâ attitud women': 984384,\n",
              " 'attitud women got': 53207,\n",
              " 'women got common': 1104578,\n",
              " 'got common norman': 373319,\n",
              " 'common norman bate': 179013,\n",
              " 'norman bate psycho': 656246,\n",
              " 'bate psycho femin': 67836,\n",
              " 'psycho femin hollaback': 735251,\n",
              " 'todayâ attitud women got': 984385,\n",
              " 'attitud women got common': 53208,\n",
              " 'women got common norman': 1104579,\n",
              " 'got common norman bate': 373320,\n",
              " 'common norman bate psycho': 179014,\n",
              " 'norman bate psycho femin': 656247,\n",
              " 'bate psycho femin hollaback': 67837,\n",
              " 'todayâ attitud women got common': 984386,\n",
              " 'attitud women got common norman': 53209,\n",
              " 'women got common norman bate': 1104580,\n",
              " 'got common norman bate psycho': 373321,\n",
              " 'common norman bate psycho femin': 179015,\n",
              " 'norman bate psycho femin hollaback': 656248,\n",
              " 'stori': 922730,\n",
              " 'alreadi': 19792,\n",
              " 'stori check': 922823,\n",
              " 'check alreadi': 155731,\n",
              " 'alreadi follow': 19981,\n",
              " 'stori check alreadi': 922824,\n",
              " 'check alreadi follow': 155732,\n",
              " 'stori check alreadi follow': 922825,\n",
              " 'god': 361773,\n",
              " 'grant': 381042,\n",
              " 'bless': 108183,\n",
              " 'battl': 68147,\n",
              " 'expans': 286350,\n",
              " 'god grant': 362330,\n",
              " 'grant bless': 381048,\n",
              " 'bless battl': 108208,\n",
              " 'battl success': 68224,\n",
              " 'success expans': 929311,\n",
              " 'god grant bless': 362331,\n",
              " 'grant bless battl': 381049,\n",
              " 'bless battl success': 108209,\n",
              " 'battl success expans': 68225,\n",
              " 'god grant bless battl': 362332,\n",
              " 'grant bless battl success': 381050,\n",
              " 'bless battl success expans': 108210,\n",
              " 'god grant bless battl success': 362333,\n",
              " 'grant bless battl success expans': 381051,\n",
              " 'model': 609202,\n",
              " 'love': 559907,\n",
              " 'urð': 1022975,\n",
              " 'model love': 609295,\n",
              " 'love time': 565718,\n",
              " 'time urð': 978860,\n",
              " 'model love time': 609296,\n",
              " 'love time urð': 565723,\n",
              " 'model love time urð': 609297,\n",
              " 'ugh': 1014712,\n",
              " 'want': 1069815,\n",
              " 'cabo': 137118,\n",
              " 'cabosanluca': 137127,\n",
              " 'liveinthemo': 544444,\n",
              " 'ugh want': 1014809,\n",
              " 'want time': 1073860,\n",
              " 'time cabo': 975899,\n",
              " 'cabo cabosanluca': 137119,\n",
              " 'cabosanluca liveinthemo': 137128,\n",
              " 'liveinthemo love': 544448,\n",
              " 'ugh want time': 1014810,\n",
              " 'want time cabo': 1073861,\n",
              " 'time cabo cabosanluca': 975900,\n",
              " 'cabo cabosanluca liveinthemo': 137120,\n",
              " 'cabosanluca liveinthemo love': 137129,\n",
              " 'ugh want time cabo': 1014811,\n",
              " 'want time cabo cabosanluca': 1073862,\n",
              " 'time cabo cabosanluca liveinthemo': 975901,\n",
              " 'cabo cabosanluca liveinthemo love': 137121,\n",
              " 'ugh want time cabo cabosanluca': 1014812,\n",
              " 'want time cabo cabosanluca liveinthemo': 1073863,\n",
              " 'time cabo cabosanluca liveinthemo love': 975902,\n",
              " 'black': 105395,\n",
              " 'amp': 26476,\n",
              " 'feel': 306173,\n",
              " 'like': 526711,\n",
              " 'stomp': 920227,\n",
              " 'listen': 539620,\n",
              " 'retweet': 773506,\n",
              " 'tampa': 945833,\n",
              " 'miamiâ': 600054,\n",
              " 'black amp': 105406,\n",
              " 'amp feel': 27913,\n",
              " 'feel like': 307322,\n",
              " 'like stomp': 534647,\n",
              " 'stomp listen': 920246,\n",
              " 'listen retweet': 540058,\n",
              " 'retweet tampa': 773831,\n",
              " 'tampa miamiâ': 945843,\n",
              " 'black amp feel': 105407,\n",
              " 'amp feel like': 27919,\n",
              " 'feel like stomp': 307680,\n",
              " 'like stomp listen': 534648,\n",
              " 'stomp listen retweet': 920247,\n",
              " 'listen retweet tampa': 540064,\n",
              " 'retweet tampa miamiâ': 773834,\n",
              " 'black amp feel like': 105408,\n",
              " 'amp feel like stomp': 27922,\n",
              " 'feel like stomp listen': 307681,\n",
              " 'like stomp listen retweet': 534649,\n",
              " 'stomp listen retweet tampa': 920252,\n",
              " 'listen retweet tampa miamiâ': 540067,\n",
              " 'black amp feel like stomp': 105410,\n",
              " 'amp feel like stomp listen': 27923,\n",
              " 'feel like stomp listen retweet': 307682,\n",
              " 'like stomp listen retweet tampa': 534652,\n",
              " 'stomp listen retweet tampa miamiâ': 920253,\n",
              " 'add': 6604,\n",
              " 'flower': 320303,\n",
              " 'time add': 975491,\n",
              " 'add flower': 6652,\n",
              " 'time add flower': 975492,\n",
              " 'ass': 47475,\n",
              " 'chines': 160469,\n",
              " 'food': 323773,\n",
              " 'frowningfac': 335758,\n",
              " 'want good': 1071420,\n",
              " 'good ass': 366974,\n",
              " 'ass chines': 48002,\n",
              " 'chines food': 160530,\n",
              " 'food frowningfac': 324012,\n",
              " 'want good ass': 1071424,\n",
              " 'good ass chines': 366979,\n",
              " 'ass chines food': 48003,\n",
              " 'chines food frowningfac': 160539,\n",
              " 'want good ass chines': 1071426,\n",
              " 'good ass chines food': 366980,\n",
              " 'ass chines food frowningfac': 48004,\n",
              " 'want good ass chines food': 1071427,\n",
              " 'good ass chines food frowningfac': 366981,\n",
              " 'energi': 272037,\n",
              " 'level': 520167,\n",
              " 'low': 567308,\n",
              " 'depress': 229973,\n",
              " 'pregnant': 724140,\n",
              " 'think': 965406,\n",
              " 'energi level': 272115,\n",
              " 'level low': 520329,\n",
              " 'low depress': 567370,\n",
              " 'depress pregnant': 230177,\n",
              " 'pregnant think': 724300,\n",
              " 'energi level low': 272116,\n",
              " 'level low depress': 520330,\n",
              " 'low depress pregnant': 567371,\n",
              " 'depress pregnant think': 230178,\n",
              " 'energi level low depress': 272117,\n",
              " 'level low depress pregnant': 520331,\n",
              " 'low depress pregnant think': 567372,\n",
              " 'energi level low depress pregnant': 272118,\n",
              " 'level low depress pregnant think': 520332,\n",
              " 'danusaur': 211340,\n",
              " 'aye': 57398,\n",
              " 'stfu': 918908,\n",
              " 'dyke': 261047,\n",
              " 'lookin': 555747,\n",
              " 'pretti': 726894,\n",
              " 'sure': 936858,\n",
              " 'bigger': 85748,\n",
              " 'dick': 233837,\n",
              " 'boyfriend': 120757,\n",
              " 'rt danusaur': 794555,\n",
              " 'danusaur aye': 211341,\n",
              " 'aye stfu': 57562,\n",
              " 'stfu dyke': 918936,\n",
              " 'dyke lookin': 261115,\n",
              " 'lookin bitch': 555771,\n",
              " 'bitch im': 96815,\n",
              " 'im pretti': 453532,\n",
              " 'pretti sure': 727418,\n",
              " 'sure bigger': 936923,\n",
              " 'bigger dick': 85771,\n",
              " 'dick boyfriend': 233936,\n",
              " 'rt danusaur aye': 794556,\n",
              " 'danusaur aye stfu': 211342,\n",
              " 'aye stfu dyke': 57563,\n",
              " 'stfu dyke lookin': 918939,\n",
              " 'dyke lookin bitch': 261116,\n",
              " 'lookin bitch im': 555778,\n",
              " 'bitch im pretti': 96950,\n",
              " 'im pretti sure': 453544,\n",
              " 'pretti sure bigger': 727424,\n",
              " 'sure bigger dick': 936924,\n",
              " 'bigger dick boyfriend': 85772,\n",
              " 'rt danusaur aye stfu': 794557,\n",
              " 'danusaur aye stfu dyke': 211343,\n",
              " 'aye stfu dyke lookin': 57564,\n",
              " 'stfu dyke lookin bitch': 918940,\n",
              " 'dyke lookin bitch im': 261117,\n",
              " 'lookin bitch im pretti': 555779,\n",
              " 'bitch im pretti sure': 96953,\n",
              " 'im pretti sure bigger': 453545,\n",
              " 'pretti sure bigger dick': 727425,\n",
              " 'sure bigger dick boyfriend': 936925,\n",
              " 'rt danusaur aye stfu dyke': 794558,\n",
              " 'danusaur aye stfu dyke lookin': 211344,\n",
              " 'aye stfu dyke lookin bitch': 57565,\n",
              " 'stfu dyke lookin bitch im': 918941,\n",
              " 'dyke lookin bitch im pretti': 261118,\n",
              " 'lookin bitch im pretti sure': 555780,\n",
              " 'bitch im pretti sure bigger': 96954,\n",
              " 'im pretti sure bigger dick': 453546,\n",
              " 'pretti sure bigger dick boyfriend': 727426,\n",
              " 'appar': 40616,\n",
              " 'gone': 365004,\n",
              " 'away': 55851,\n",
              " 'hu': 439441,\n",
              " 'sis': 881696,\n",
              " 'weekend': 1086637,\n",
              " 'lurcher': 569794,\n",
              " 'appar mom': 40728,\n",
              " 'mom gone': 610284,\n",
              " 'gone away': 365049,\n",
              " 'away hu': 56145,\n",
              " 'hu sis': 439547,\n",
              " 'sis weekend': 881797,\n",
              " 'weekend mom': 1087355,\n",
              " 'mom lurcher': 610437,\n",
              " 'appar mom gone': 40729,\n",
              " 'mom gone away': 610285,\n",
              " 'gone away hu': 365054,\n",
              " 'away hu sis': 56146,\n",
              " 'hu sis weekend': 439548,\n",
              " 'sis weekend mom': 881798,\n",
              " 'weekend mom lurcher': 1087356,\n",
              " 'appar mom gone away': 40730,\n",
              " 'mom gone away hu': 610286,\n",
              " 'gone away hu sis': 365055,\n",
              " 'away hu sis weekend': 56147,\n",
              " 'hu sis weekend mom': 439549,\n",
              " 'sis weekend mom lurcher': 881799,\n",
              " 'appar mom gone away hu': 40731,\n",
              " 'mom gone away hu sis': 610287,\n",
              " 'gone away hu sis weekend': 365056,\n",
              " 'away hu sis weekend mom': 56148,\n",
              " 'hu sis weekend mom lurcher': 439550,\n",
              " 'therealmugatu': 962156,\n",
              " 'rememb': 766476,\n",
              " 'game': 347267,\n",
              " 'win': 1097488,\n",
              " 'jack': 473885,\n",
              " 'right': 776735,\n",
              " 'summer': 931406,\n",
              " 'yanke': 1122047,\n",
              " 'stadium': 911441,\n",
              " 'start': 913659,\n",
              " 'rt therealmugatu': 826723,\n",
              " 'therealmugatu rememb': 962157,\n",
              " 'rememb game': 766700,\n",
              " 'game win': 348308,\n",
              " 'win jack': 1097877,\n",
              " 'jack right': 473966,\n",
              " 'right summer': 778307,\n",
              " 'summer yanke': 932360,\n",
              " 'yanke stadium': 1122537,\n",
              " ...}"
            ]
          },
          "metadata": {},
          "execution_count": 51
        }
      ]
    },
    {
      "cell_type": "markdown",
      "source": [
        "Naive Bayes classifier"
      ],
      "metadata": {
        "id": "MUxGEgBI3qsz"
      }
    },
    {
      "cell_type": "code",
      "source": [
        "from sklearn.feature_extraction.text import TfidfTransformer\n",
        "tfidf = TfidfTransformer()\n",
        "\n",
        "x_train_tfidf = tfidf.fit_transform(x_train_vectorizer)\n",
        "\n",
        "x_train_tfidf.toarray()\n",
        "x_test_tfidf = tfidf.transform(x_test_vectorizer)\n"
      ],
      "metadata": {
        "id": "Q5vsJFoe6ArS"
      },
      "execution_count": null,
      "outputs": []
    },
    {
      "cell_type": "code",
      "source": [
        "from sklearn.naive_bayes import MultinomialNB\n",
        "from sklearn.metrics import classification_report\n",
        "from sklearn.metrics import confusion_matrix"
      ],
      "metadata": {
        "id": "YN6gOd2W6At3"
      },
      "execution_count": null,
      "outputs": []
    },
    {
      "cell_type": "code",
      "source": [
        "model_vectorizer= MultinomialNB().fit(x_train_vectorizer, y_train)\n",
        "prediction_vectorizer=model_vectorizer.predict(x_test_vectorizer)\n",
        "print(confusion_matrix(y_test,prediction_vectorizer))\n",
        "print (classification_report(y_test, prediction_vectorizer))"
      ],
      "metadata": {
        "colab": {
          "base_uri": "https://localhost:8080/"
        },
        "id": "7N2-Ic2N6AwR",
        "outputId": "2043edb0-53cf-427c-f398-6db8b25d3625"
      },
      "execution_count": null,
      "outputs": [
        {
          "output_type": "stream",
          "name": "stdout",
          "text": [
            "[[11101  2368]\n",
            " [ 2776  7942]]\n",
            "              precision    recall  f1-score   support\n",
            "\n",
            "           0       0.80      0.82      0.81     13469\n",
            "           1       0.77      0.74      0.76     10718\n",
            "\n",
            "    accuracy                           0.79     24187\n",
            "   macro avg       0.79      0.78      0.78     24187\n",
            "weighted avg       0.79      0.79      0.79     24187\n",
            "\n"
          ]
        }
      ]
    },
    {
      "cell_type": "code",
      "source": [
        "model_tfidf= MultinomialNB().fit(x_train_tfidf, y_train)\n",
        "prediction_tfidf=model_tfidf.predict(x_test_tfidf)\n",
        "print (classification_report(y_test, prediction_tfidf))\n",
        "print(confusion_matrix(y_test,prediction_tfidf))"
      ],
      "metadata": {
        "colab": {
          "base_uri": "https://localhost:8080/"
        },
        "id": "fgx-Q4BS6Ayy",
        "outputId": "c726c4d4-337c-40e1-d1da-d2e3933a0f07"
      },
      "execution_count": null,
      "outputs": [
        {
          "output_type": "stream",
          "name": "stdout",
          "text": [
            "              precision    recall  f1-score   support\n",
            "\n",
            "           0       0.76      0.90      0.83     13469\n",
            "           1       0.84      0.65      0.73     10718\n",
            "\n",
            "    accuracy                           0.79     24187\n",
            "   macro avg       0.80      0.77      0.78     24187\n",
            "weighted avg       0.80      0.79      0.78     24187\n",
            "\n",
            "[[12129  1340]\n",
            " [ 3791  6927]]\n"
          ]
        }
      ]
    },
    {
      "cell_type": "markdown",
      "source": [
        "XgBoost model"
      ],
      "metadata": {
        "id": "8CK4-0j93lGm"
      }
    },
    {
      "cell_type": "code",
      "source": [
        "import xgboost as xgb\n",
        "xgb_model=xgb.XGBClassifier(\n",
        "        learning_rate=0.1,\n",
        "        max_depth=7,\n",
        "        n_estimators=80,\n",
        "        use_label_encoder=False,\n",
        "        eval_metric='auc' )"
      ],
      "metadata": {
        "colab": {
          "base_uri": "https://localhost:8080/"
        },
        "id": "yU1zyn-b6A1P",
        "outputId": "93be24af-ec8e-4349-f7bf-7e6cce37bbd6"
      },
      "execution_count": null,
      "outputs": [
        {
          "output_type": "stream",
          "name": "stderr",
          "text": [
            "/usr/local/lib/python3.9/dist-packages/xgboost/sklearn.py:1395: UserWarning: `use_label_encoder` is deprecated in 1.7.0.\n",
            "  warnings.warn(\"`use_label_encoder` is deprecated in 1.7.0.\")\n"
          ]
        }
      ]
    },
    {
      "cell_type": "code",
      "source": [
        "xgb_model_vectorizer = xgb_model.fit(x_train_vectorizer, y_train)\n",
        "xgb_predictions_vectorizer=xgb_model_vectorizer.predict(x_test_vectorizer)\n",
        "print(confusion_matrix(y_test,xgb_predictions_vectorizer))\n",
        "print (classification_report(y_test, xgb_predictions_vectorizer))"
      ],
      "metadata": {
        "colab": {
          "base_uri": "https://localhost:8080/"
        },
        "id": "RQu0CYS86A39",
        "outputId": "3c3c3921-d9c6-4a71-d752-baac59ec8ab5"
      },
      "execution_count": null,
      "outputs": [
        {
          "output_type": "stream",
          "name": "stdout",
          "text": [
            "[[12993   476]\n",
            " [ 5188  5530]]\n",
            "              precision    recall  f1-score   support\n",
            "\n",
            "           0       0.71      0.96      0.82     13469\n",
            "           1       0.92      0.52      0.66     10718\n",
            "\n",
            "    accuracy                           0.77     24187\n",
            "   macro avg       0.82      0.74      0.74     24187\n",
            "weighted avg       0.81      0.77      0.75     24187\n",
            "\n"
          ]
        }
      ]
    },
    {
      "cell_type": "code",
      "source": [
        "xgb_model = xgb_model.fit(x_train_tfidf, y_train)\n",
        "xgb_predictions=xgb_model.predict(x_test_tfidf)\n",
        "print(confusion_matrix(y_test,xgb_predictions))\n",
        "print (classification_report(y_test, xgb_predictions))"
      ],
      "metadata": {
        "colab": {
          "base_uri": "https://localhost:8080/"
        },
        "id": "G8Fqso6z6A8R",
        "outputId": "61905a48-af53-4cb5-dc7c-59b8db56f904"
      },
      "execution_count": null,
      "outputs": [
        {
          "output_type": "stream",
          "name": "stdout",
          "text": [
            "[[12965   504]\n",
            " [ 5138  5580]]\n",
            "              precision    recall  f1-score   support\n",
            "\n",
            "           0       0.72      0.96      0.82     13469\n",
            "           1       0.92      0.52      0.66     10718\n",
            "\n",
            "    accuracy                           0.77     24187\n",
            "   macro avg       0.82      0.74      0.74     24187\n",
            "weighted avg       0.81      0.77      0.75     24187\n",
            "\n"
          ]
        }
      ]
    },
    {
      "cell_type": "code",
      "source": [],
      "metadata": {
        "id": "erc_g2eE6A_y"
      },
      "execution_count": null,
      "outputs": []
    },
    {
      "cell_type": "markdown",
      "source": [
        "LSTM\n"
      ],
      "metadata": {
        "id": "8aVy5VFb7W3G"
      }
    },
    {
      "cell_type": "code",
      "source": [
        "from keras.models import Model\n",
        "from keras.layers import LSTM, Activation, Dense, Dropout, Input, Embedding,SpatialDropout1D\n",
        "from keras.optimizers import RMSprop\n",
        "from keras.preprocessing.text import Tokenizer\n",
        "from keras.preprocessing import sequence\n",
        "from keras.utils import to_categorical\n",
        "from keras.callbacks import EarlyStopping\n",
        "from keras.models import Sequential\n",
        "from keras_preprocessing.sequence import pad_sequences\n",
        "from tensorflow.keras.optimizers import RMSprop\n",
        "from kerastuner.tuners import RandomSearch\n",
        "from keras.wrappers.scikit_learn import KerasClassifier\n",
        "from sklearn.model_selection import RandomizedSearchCV"
      ],
      "metadata": {
        "id": "7e9CO5r36BBN",
        "colab": {
          "base_uri": "https://localhost:8080/"
        },
        "outputId": "5b8f33c2-ad58-47da-cf28-7ec7cd763b3f"
      },
      "execution_count": null,
      "outputs": [
        {
          "output_type": "stream",
          "name": "stderr",
          "text": [
            "<ipython-input-59-0123173d5800>:11: DeprecationWarning: `import kerastuner` is deprecated, please use `import keras_tuner`.\n",
            "  from kerastuner.tuners import RandomSearch\n"
          ]
        }
      ]
    },
    {
      "cell_type": "code",
      "source": [
        "max_words = 50000\n",
        "max_len = 300\n",
        "tokenizer = Tokenizer(num_words=max_words)\n",
        "tokenizer.fit_on_texts(x_train)\n",
        "sequences = tokenizer.texts_to_sequences(x_train)\n",
        "sequences_matrix = pad_sequences(sequences,maxlen=max_len)"
      ],
      "metadata": {
        "id": "GyuDtn2w6BCx"
      },
      "execution_count": null,
      "outputs": []
    },
    {
      "cell_type": "markdown",
      "source": [
        "simple model"
      ],
      "metadata": {
        "id": "oAc1H7ED_mtd"
      }
    },
    {
      "cell_type": "code",
      "source": [
        "best_model = Sequential()\n",
        "best_model.add(Embedding(max_words, 100, input_length=max_len))\n",
        "best_model.add(SpatialDropout1D(0.2))\n",
        "best_model.add(LSTM(100, dropout=0.2, recurrent_dropout=0.2))\n",
        "best_model.add(Dense(1, activation='sigmoid'))\n",
        "best_model.summary()\n",
        "best_model.compile(loss='binary_crossentropy',optimizer=RMSprop(),metrics=['accuracy'])"
      ],
      "metadata": {
        "colab": {
          "base_uri": "https://localhost:8080/"
        },
        "id": "Uxk6mzyE_jrp",
        "outputId": "1cadab60-c615-400a-ffa1-af261089105b"
      },
      "execution_count": null,
      "outputs": [
        {
          "output_type": "stream",
          "name": "stdout",
          "text": [
            "Model: \"sequential\"\n",
            "_________________________________________________________________\n",
            " Layer (type)                Output Shape              Param #   \n",
            "=================================================================\n",
            " embedding (Embedding)       (None, 300, 100)          5000000   \n",
            "                                                                 \n",
            " spatial_dropout1d (SpatialD  (None, 300, 100)         0         \n",
            " ropout1D)                                                       \n",
            "                                                                 \n",
            " lstm (LSTM)                 (None, 100)               80400     \n",
            "                                                                 \n",
            " dense (Dense)               (None, 1)                 101       \n",
            "                                                                 \n",
            "=================================================================\n",
            "Total params: 5,080,501\n",
            "Trainable params: 5,080,501\n",
            "Non-trainable params: 0\n",
            "_________________________________________________________________\n"
          ]
        }
      ]
    },
    {
      "cell_type": "code",
      "source": [],
      "metadata": {
        "id": "bZj2R4E7jV2L"
      },
      "execution_count": null,
      "outputs": []
    },
    {
      "cell_type": "markdown",
      "source": [
        "Hyperparameter optimization"
      ],
      "metadata": {
        "id": "EMa8-6Sk_AEW"
      }
    },
    {
      "cell_type": "code",
      "source": [
        "# Define the LSTM model\n",
        "def create_model(embedding_dim=100, lstm_units=100, dropout_rate=0.2, optimizer='rmsprop'):\n",
        "    model = Sequential()\n",
        "    model.add(Embedding(max_words, embedding_dim, input_length=max_len))\n",
        "    model.add(SpatialDropout1D(dropout_rate))\n",
        "    model.add(LSTM(lstm_units, dropout=dropout_rate, recurrent_dropout=dropout_rate))\n",
        "    model.add(Dense(1, activation='sigmoid'))\n",
        "    model.compile(loss='binary_crossentropy', optimizer=optimizer, metrics=['accuracy'])\n",
        "    return model"
      ],
      "metadata": {
        "id": "EzbgNLJGm6j_"
      },
      "execution_count": null,
      "outputs": []
    },
    {
      "cell_type": "code",
      "source": [
        "# Define the hyperparameters to tune\n",
        "param_dist = {'embedding_dim': [50, 100, 150],\n",
        "              'lstm_units': [64, 128, 256],\n",
        "              'dropout_rate': [0.2, 0.3, 0.4],\n",
        "              'optimizer': ['rmsprop', 'adam']}"
      ],
      "metadata": {
        "id": "znOWDmhEm6mq"
      },
      "execution_count": null,
      "outputs": []
    },
    {
      "cell_type": "code",
      "source": [
        "# Create the Keras classifier\n",
        "model = KerasClassifier(build_fn=create_model, epochs=10, batch_size=32, verbose=0)\n",
        "random_search = RandomizedSearchCV(estimator=model, param_distributions=param_dist, n_iter=10, cv=3, verbose=2)\n",
        "random_search.fit(sequences_matrix, y_train)"
      ],
      "metadata": {
        "id": "MJTs2G8c-vzK"
      },
      "execution_count": null,
      "outputs": []
    },
    {
      "cell_type": "code",
      "source": [
        "best_model = grid.best_estimator_.model\n",
        "loss, accuracy = best_model.evaluate(x_test, y_test, verbose=0)"
      ],
      "metadata": {
        "colab": {
          "base_uri": "https://localhost:8080/"
        },
        "id": "18qUJ_4MmHG_",
        "outputId": "270387c0-0553-47da-e3ea-518eb705ba38"
      },
      "execution_count": null,
      "outputs": [
        {
          "output_type": "stream",
          "name": "stderr",
          "text": [
            "WARNING:tensorflow:Layer lstm_1 will not use cuDNN kernels since it doesn't meet the criteria. It will use a generic GPU kernel as fallback when running on GPU.\n"
          ]
        },
        {
          "output_type": "stream",
          "name": "stdout",
          "text": [
            "Model: \"sequential_1\"\n",
            "_________________________________________________________________\n",
            " Layer (type)                Output Shape              Param #   \n",
            "=================================================================\n",
            " embedding_1 (Embedding)     (None, 300, 100)          5000000   \n",
            "                                                                 \n",
            " spatial_dropout1d_1 (Spatia  (None, 300, 100)         0         \n",
            " lDropout1D)                                                     \n",
            "                                                                 \n",
            " lstm_1 (LSTM)               (None, 100)               80400     \n",
            "                                                                 \n",
            " dense_1 (Dense)             (None, 1)                 101       \n",
            "                                                                 \n",
            "=================================================================\n",
            "Total params: 5,080,501\n",
            "Trainable params: 5,080,501\n",
            "Non-trainable params: 0\n",
            "_________________________________________________________________\n"
          ]
        }
      ]
    },
    {
      "cell_type": "code",
      "source": [],
      "metadata": {
        "id": "CRvx7S3Sjm_H"
      },
      "execution_count": null,
      "outputs": []
    },
    {
      "cell_type": "code",
      "source": [
        "history=best_model.fit(sequences_matrix,y_train,batch_size=1024,epochs=30,\n",
        "          validation_split=0.2)"
      ],
      "metadata": {
        "colab": {
          "base_uri": "https://localhost:8080/"
        },
        "id": "0-83pBjy7SG0",
        "outputId": "649fc6b8-aa29-48bb-ffd0-3c192e0a280c"
      },
      "execution_count": null,
      "outputs": [
        {
          "output_type": "stream",
          "name": "stdout",
          "text": [
            "Epoch 1/30\n",
            "57/57 [==============================] - 400s 7s/step - loss: 0.6430 - accuracy: 0.6199 - val_loss: 0.5377 - val_accuracy: 0.7357\n",
            "Epoch 2/30\n",
            "57/57 [==============================] - 391s 7s/step - loss: 0.4817 - accuracy: 0.7559 - val_loss: 0.4474 - val_accuracy: 0.7698\n",
            "Epoch 3/30\n",
            "57/57 [==============================] - 397s 7s/step - loss: 0.4253 - accuracy: 0.7857 - val_loss: 0.4265 - val_accuracy: 0.7801\n",
            "Epoch 4/30\n",
            "57/57 [==============================] - 417s 7s/step - loss: 0.3972 - accuracy: 0.8041 - val_loss: 0.4223 - val_accuracy: 0.7851\n",
            "Epoch 5/30\n",
            "57/57 [==============================] - 393s 7s/step - loss: 0.3783 - accuracy: 0.8151 - val_loss: 0.4268 - val_accuracy: 0.7864\n",
            "Epoch 6/30\n",
            "57/57 [==============================] - 390s 7s/step - loss: 0.3647 - accuracy: 0.8229 - val_loss: 0.4208 - val_accuracy: 0.7827\n",
            "Epoch 7/30\n",
            "57/57 [==============================] - 393s 7s/step - loss: 0.3508 - accuracy: 0.8344 - val_loss: 0.4232 - val_accuracy: 0.7876\n",
            "Epoch 8/30\n",
            "57/57 [==============================] - 393s 7s/step - loss: 0.3399 - accuracy: 0.8414 - val_loss: 0.4287 - val_accuracy: 0.7833\n",
            "Epoch 9/30\n",
            "57/57 [==============================] - 391s 7s/step - loss: 0.3291 - accuracy: 0.8477 - val_loss: 0.4367 - val_accuracy: 0.7835\n",
            "Epoch 10/30\n",
            "57/57 [==============================] - 392s 7s/step - loss: 0.3195 - accuracy: 0.8531 - val_loss: 0.4357 - val_accuracy: 0.7827\n",
            "Epoch 11/30\n",
            "57/57 [==============================] - 388s 7s/step - loss: 0.3106 - accuracy: 0.8588 - val_loss: 0.4435 - val_accuracy: 0.7816\n",
            "Epoch 12/30\n",
            "57/57 [==============================] - 390s 7s/step - loss: 0.3029 - accuracy: 0.8633 - val_loss: 0.4636 - val_accuracy: 0.7809\n",
            "Epoch 13/30\n",
            "57/57 [==============================] - 391s 7s/step - loss: 0.2938 - accuracy: 0.8680 - val_loss: 0.4691 - val_accuracy: 0.7732\n",
            "Epoch 14/30\n",
            "57/57 [==============================] - 390s 7s/step - loss: 0.2867 - accuracy: 0.8728 - val_loss: 0.4632 - val_accuracy: 0.7785\n",
            "Epoch 15/30\n",
            "57/57 [==============================] - 396s 7s/step - loss: 0.2791 - accuracy: 0.8761 - val_loss: 0.4736 - val_accuracy: 0.7817\n",
            "Epoch 16/30\n",
            "57/57 [==============================] - 421s 7s/step - loss: 0.3262 - accuracy: 0.8738 - val_loss: 0.4764 - val_accuracy: 0.7799\n",
            "Epoch 17/30\n",
            "57/57 [==============================] - 412s 7s/step - loss: 0.2657 - accuracy: 0.8833 - val_loss: 0.4863 - val_accuracy: 0.7808\n",
            "Epoch 18/30\n",
            "57/57 [==============================] - 413s 7s/step - loss: 0.2622 - accuracy: 0.8857 - val_loss: 0.4906 - val_accuracy: 0.7785\n",
            "Epoch 19/30\n",
            "57/57 [==============================] - 389s 7s/step - loss: 0.2554 - accuracy: 0.8888 - val_loss: 0.4962 - val_accuracy: 0.7780\n",
            "Epoch 20/30\n",
            "57/57 [==============================] - 390s 7s/step - loss: 0.2531 - accuracy: 0.8902 - val_loss: 0.4996 - val_accuracy: 0.7754\n",
            "Epoch 21/30\n",
            "57/57 [==============================] - 390s 7s/step - loss: 0.2449 - accuracy: 0.8943 - val_loss: 0.5079 - val_accuracy: 0.7740\n",
            "Epoch 22/30\n",
            "57/57 [==============================] - 389s 7s/step - loss: 0.2379 - accuracy: 0.8989 - val_loss: 0.5117 - val_accuracy: 0.7787\n",
            "Epoch 23/30\n",
            "57/57 [==============================] - 391s 7s/step - loss: 0.2381 - accuracy: 0.8986 - val_loss: 0.5249 - val_accuracy: 0.7762\n",
            "Epoch 24/30\n",
            "57/57 [==============================] - 391s 7s/step - loss: 0.2807 - accuracy: 0.8921 - val_loss: 0.5216 - val_accuracy: 0.7760\n",
            "Epoch 25/30\n",
            "57/57 [==============================] - 394s 7s/step - loss: 0.2256 - accuracy: 0.9032 - val_loss: 0.5345 - val_accuracy: 0.7720\n",
            "Epoch 26/30\n",
            "57/57 [==============================] - 396s 7s/step - loss: 0.2227 - accuracy: 0.9053 - val_loss: 0.5490 - val_accuracy: 0.7752\n",
            "Epoch 27/30\n",
            "57/57 [==============================] - 399s 7s/step - loss: 0.2181 - accuracy: 0.9077 - val_loss: 0.5527 - val_accuracy: 0.7774\n",
            "Epoch 28/30\n",
            "57/57 [==============================] - 399s 7s/step - loss: 0.2143 - accuracy: 0.9094 - val_loss: 0.5531 - val_accuracy: 0.7714\n",
            "Epoch 29/30\n",
            "57/57 [==============================] - 394s 7s/step - loss: 0.2104 - accuracy: 0.9104 - val_loss: 0.5587 - val_accuracy: 0.7733\n",
            "Epoch 30/30\n",
            "57/57 [==============================] - 396s 7s/step - loss: 0.2084 - accuracy: 0.9124 - val_loss: 0.5781 - val_accuracy: 0.7705\n"
          ]
        }
      ]
    },
    {
      "cell_type": "markdown",
      "source": [
        "   <li><h2>Plotting the Accuracy</h2> </li>\n"
      ],
      "metadata": {
        "id": "a2qLYUPM5ibL"
      }
    },
    {
      "cell_type": "code",
      "source": [
        "from matplotlib import pyplot as plt\n",
        "plt.plot(history.history['loss'],'r',label='training loss')\n",
        "plt.plot(history.history['val_loss'],label='validation loss')\n",
        "plt.xlabel('# epochs')\n",
        "plt.ylabel('loss')\n",
        "plt.legend()\n",
        "plt.show()"
      ],
      "metadata": {
        "colab": {
          "base_uri": "https://localhost:8080/",
          "height": 449
        },
        "id": "EHTqK71w5gna",
        "outputId": "1a9e168b-d8fb-4528-ae7a-de174020b7fe"
      },
      "execution_count": null,
      "outputs": [
        {
          "output_type": "display_data",
          "data": {
            "text/plain": [
              "<Figure size 640x480 with 1 Axes>"
            ],
            "image/png": "[encoded data removed]"
          },
          "metadata": {}
        }
      ]
    },
    {
      "cell_type": "code",
      "source": [
        "plt.plot(history.history['accuracy'],'r',label='training accuracy')\n",
        "plt.plot(history.history['val_accuracy'],label='validation accuracy')\n",
        "plt.xlabel('# epochs')\n",
        "plt.ylabel('loss')\n",
        "plt.legend()\n",
        "plt.show()"
      ],
      "metadata": {
        "colab": {
          "base_uri": "https://localhost:8080/",
          "height": 449
        },
        "id": "ZvNVAawf5v2o",
        "outputId": "4380a610-6658-44ac-9d6a-d5edda729142"
      },
      "execution_count": null,
      "outputs": [
        {
          "output_type": "display_data",
          "data": {
            "text/plain": [
              "<Figure size 640x480 with 1 Axes>"
            ],
            "image/png": "[encoded data removed]"
          },
          "metadata": {}
        }
      ]
    },
    {
      "cell_type": "code",
      "source": [
        "test_sequences = tokenizer.texts_to_sequences(x_test)\n",
        "test_sequences_matrix = pad_sequences(test_sequences,maxlen=max_len)"
      ],
      "metadata": {
        "id": "Dwy_aSJv75Oa"
      },
      "execution_count": null,
      "outputs": []
    },
    {
      "cell_type": "code",
      "source": [
        "accr = best_model.evaluate(test_sequences_matrix,y_test)\n",
        "print(accr)"
      ],
      "metadata": {
        "colab": {
          "base_uri": "https://localhost:8080/"
        },
        "id": "7TK60naH75Q1",
        "outputId": "33352b60-84e7-4631-ab2a-01cb124d5575"
      },
      "execution_count": null,
      "outputs": [
        {
          "output_type": "stream",
          "name": "stdout",
          "text": [
            "756/756 [==============================] - 62s 82ms/step - loss: 0.5766 - accuracy: 0.7709\n",
            "[0.5765986442565918, 0.7709099650382996]\n"
          ]
        }
      ]
    },
    {
      "cell_type": "markdown",
      "source": [
        "prediction\n"
      ],
      "metadata": {
        "id": "PwaZMb4P1uaG"
      }
    },
    {
      "cell_type": "code",
      "source": [
        "lstm_prediction=model.predict(test_sequences_matrix)"
      ],
      "metadata": {
        "colab": {
          "base_uri": "https://localhost:8080/"
        },
        "id": "S56KVvVy75Vr",
        "outputId": "90ebdfd5-5aac-4d4f-c218-4d366e964864"
      },
      "execution_count": null,
      "outputs": [
        {
          "output_type": "stream",
          "name": "stdout",
          "text": [
            "756/756 [==============================] - 74s 98ms/step\n"
          ]
        }
      ]
    },
    {
      "cell_type": "code",
      "source": [
        "res=[]\n",
        "for prediction in lstm_prediction:\n",
        "    if prediction[0]<0.5:\n",
        "        res.append(0)\n",
        "    else:\n",
        "        res.append(1)"
      ],
      "metadata": {
        "id": "8tka4QNR75YB"
      },
      "execution_count": null,
      "outputs": []
    },
    {
      "cell_type": "code",
      "source": [
        "print(confusion_matrix(y_test,res))"
      ],
      "metadata": {
        "colab": {
          "base_uri": "https://localhost:8080/"
        },
        "id": "2jabh-gC6BMZ",
        "outputId": "8240ff82-7a3d-4126-f0db-43845b6dec46"
      },
      "execution_count": null,
      "outputs": [
        {
          "output_type": "stream",
          "name": "stdout",
          "text": [
            "[[11170  2299]\n",
            " [ 2904  7814]]\n"
          ]
        }
      ]
    },
    {
      "cell_type": "code",
      "source": [
        "import pickle\n",
        "with open('tokenizer.pickle', 'wb') as handle:\n",
        "    pickle.dump(tokenizer, handle, protocol=pickle.HIGHEST_PROTOCOL)"
      ],
      "metadata": {
        "id": "GkLgmY_513a5"
      },
      "execution_count": null,
      "outputs": []
    },
    {
      "cell_type": "code",
      "source": [
        "model.save(\"hate&abusive_model.h5\")"
      ],
      "metadata": {
        "id": "GGT5mkbj13dz"
      },
      "execution_count": null,
      "outputs": []
    },
    {
      "cell_type": "code",
      "source": [
        "import keras"
      ],
      "metadata": {
        "id": "rsYpmMUV13g1"
      },
      "execution_count": null,
      "outputs": []
    },
    {
      "cell_type": "code",
      "source": [
        "load_model=keras.models.load_model(\"/content/hate&abusive_model.h5\")\n",
        "with open('/content/tokenizer.pickle', 'rb') as handle:\n",
        "    load_tokenizer = pickle.load(handle)"
      ],
      "metadata": {
        "id": "LL9vvPdD13jV",
        "colab": {
          "base_uri": "https://localhost:8080/"
        },
        "outputId": "a130f959-41c5-4fa9-ea5c-72fca93b1d12"
      },
      "execution_count": null,
      "outputs": [
        {
          "output_type": "stream",
          "name": "stderr",
          "text": [
            "WARNING:tensorflow:Layer lstm will not use cuDNN kernels since it doesn't meet the criteria. It will use a generic GPU kernel as fallback when running on GPU.\n"
          ]
        }
      ]
    },
    {
      "cell_type": "code",
      "source": [
        "\n",
        "def clean_text(text):\n",
        "    print(text)\n",
        "    text = str(text).lower()\n",
        "    text = re.sub('\\[.*?\\]', '', text)\n",
        "    text = re.sub('https?://\\S+|www\\.\\S+', '', text)\n",
        "    text = re.sub('<.*?>+', '', text)\n",
        "    text = re.sub('[%s]' % re.escape(string.punctuation), '', text)\n",
        "    text = re.sub('\\n', '', text)\n",
        "    text = re.sub('\\w*\\d\\w*', '', text)\n",
        "    print(text)\n",
        "    text = [word for word in text.split(' ') if word not in stopword]\n",
        "    text=\" \".join(text)\n",
        "    text = [stemmer.stem(word) for word in text.split(' ')]\n",
        "    text=\" \".join(text)\n",
        "    return text\n",
        "test = 'i love you  '\n",
        "test=[clean_text(test)]\n",
        "# print(test)\n",
        "seq = load_tokenizer.texts_to_sequences(test)\n",
        "padded =pad_sequences(seq, maxlen=300)\n",
        "# print(seq)\n",
        "pred = load_model.predict(padded)\n",
        "print(\"pred\", pred)\n",
        "if pred<0.5:\n",
        "    print(\"no hate\")\n",
        "else:\n",
        "    print(\"hate and abusive\")"
      ],
      "metadata": {
        "colab": {
          "base_uri": "https://localhost:8080/"
        },
        "id": "_js4YJtc2O28",
        "outputId": "a625bb5d-8673-4726-f6ca-2f488b44804f"
      },
      "execution_count": null,
      "outputs": [
        {
          "output_type": "stream",
          "name": "stdout",
          "text": [
            "i love you  \n",
            "i love you  \n",
            "1/1 [==============================] - 0s 250ms/step\n",
            "pred [[0.4541662]]\n",
            "no hate\n"
          ]
        }
      ]
    },
    {
      "cell_type": "code",
      "source": [],
      "metadata": {
        "id": "3AQuEscy13l5"
      },
      "execution_count": null,
      "outputs": []
    },
    {
      "cell_type": "markdown",
      "source": [],
      "metadata": {
        "id": "p46qBR_539QZ"
      }
    },
    {
      "cell_type": "code",
      "source": [],
      "metadata": {
        "id": "Gd09Spm213on"
      },
      "execution_count": null,
      "outputs": []
    },
    {
      "cell_type": "code",
      "source": [],
      "metadata": {
        "id": "Tvne0W-713rR"
      },
      "execution_count": null,
      "outputs": []
    }
  ],
  "metadata": {
    "accelerator": "GPU",
    "colab": {
      "provenance": [],
      "include_colab_link": true
    },
    "gpuClass": "standard",
    "kernelspec": {
      "display_name": "Python 3 (ipykernel)",
      "language": "python",
      "name": "python3"
    },
    "language_info": {
      "codemirror_mode": {
        "name": "ipython",
        "version": 3
      },
      "file_extension": ".py",
      "mimetype": "text/x-python",
      "name": "python",
      "nbconvert_exporter": "python",
      "pygments_lexer": "ipython3",
      "version": "3.8.16"
    }
  },
  "nbformat": 4,
  "nbformat_minor": 0
}